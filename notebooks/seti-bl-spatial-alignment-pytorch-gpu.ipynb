{
 "cells": [
  {
   "cell_type": "markdown",
   "id": "pretty-terrorist",
   "metadata": {
    "papermill": {
     "duration": 0.020943,
     "end_time": "2021-07-15T21:49:04.835151",
     "exception": false,
     "start_time": "2021-07-15T21:49:04.814208",
     "status": "completed"
    },
    "tags": []
   },
   "source": [
    "<a href=\"https://ibb.co/HT9vrgq\"><img src=\"https://i.ibb.co/F4dvB7z/6-vs-3.png\" alt=\"6-vs-3\" border=\"0\" width=\"700\" height=\"600\"></a>\n",
    "\n",
    "This notebook is to check if only **3** channels can pull of **6** channels score [**CV:0.968 | LB:0.95**]. You can also check this [discussion](https://www.kaggle.com/c/seti-breakthrough-listen/discussion/238298) for more details. If this works we can take advantage of it. \n",
    ">Thus we can train using larger **batch_size** with larger **image_size** taking less **time** and with more **folds**.\n",
    "\n",
    "If you find this ntoebok helpful Please Upvote.\n",
    "This notebook is heavily based on this following two notebooks, please make sure you upvote them too,\n",
    "* [SETI / NFNet_l0 starter [training]](https://www.kaggle.com/yasufuminakama/seti-nfnet-l0-starter-training)\n",
    "* [SETI / NFNet_l0 starter [inference]](https://www.kaggle.com/yasufuminakama/seti-nfnet-l0-starter-inference)"
   ]
  },
  {
   "cell_type": "markdown",
   "id": "floating-democracy",
   "metadata": {
    "papermill": {
     "duration": 0.02095,
     "end_time": "2021-07-15T21:49:04.878128",
     "exception": false,
     "start_time": "2021-07-15T21:49:04.857178",
     "status": "completed"
    },
    "tags": []
   },
   "source": [
    "# About this notebook\n",
    "- PyTorch nfnet_l0 starter code\n",
    "- StratifiedKFold 4 folds\n",
    "- **3** channels instead of **6**\n",
    "\n",
    "If this notebook is helpful, feel free to upvote :)"
   ]
  },
  {
   "cell_type": "markdown",
   "id": "irish-renewal",
   "metadata": {
    "papermill": {
     "duration": 0.036541,
     "end_time": "2021-07-15T21:49:04.934223",
     "exception": false,
     "start_time": "2021-07-15T21:49:04.897682",
     "status": "completed"
    },
    "tags": []
   },
   "source": [
    "# Data Loading"
   ]
  },
  {
   "cell_type": "code",
   "execution_count": 1,
   "id": "buried-analysis",
   "metadata": {
    "execution": {
     "iopub.execute_input": "2021-07-15T21:49:05.011180Z",
     "iopub.status.busy": "2021-07-15T21:49:05.010525Z",
     "iopub.status.idle": "2021-07-15T21:49:05.729162Z",
     "shell.execute_reply": "2021-07-15T21:49:05.728454Z"
    },
    "papermill": {
     "duration": 0.760562,
     "end_time": "2021-07-15T21:49:05.729327",
     "exception": false,
     "start_time": "2021-07-15T21:49:04.968765",
     "status": "completed"
    },
    "tags": []
   },
   "outputs": [],
   "source": [
    "import os\n",
    "import numpy as np\n",
    "import pandas as pd\n",
    "from PIL import Image\n",
    "from matplotlib import pyplot as plt\n",
    "import seaborn as sns"
   ]
  },
  {
   "cell_type": "code",
   "execution_count": 2,
   "id": "south-closer",
   "metadata": {
    "execution": {
     "iopub.execute_input": "2021-07-15T21:49:05.778956Z",
     "iopub.status.busy": "2021-07-15T21:49:05.778444Z",
     "iopub.status.idle": "2021-07-15T21:49:05.958189Z",
     "shell.execute_reply": "2021-07-15T21:49:05.958802Z"
    },
    "papermill": {
     "duration": 0.207543,
     "end_time": "2021-07-15T21:49:05.958995",
     "exception": false,
     "start_time": "2021-07-15T21:49:05.751452",
     "status": "completed"
    },
    "tags": []
   },
   "outputs": [
    {
     "data": {
      "text/html": [
       "<div>\n",
       "<style scoped>\n",
       "    .dataframe tbody tr th:only-of-type {\n",
       "        vertical-align: middle;\n",
       "    }\n",
       "\n",
       "    .dataframe tbody tr th {\n",
       "        vertical-align: top;\n",
       "    }\n",
       "\n",
       "    .dataframe thead th {\n",
       "        text-align: right;\n",
       "    }\n",
       "</style>\n",
       "<table border=\"1\" class=\"dataframe\">\n",
       "  <thead>\n",
       "    <tr style=\"text-align: right;\">\n",
       "      <th></th>\n",
       "      <th>id</th>\n",
       "      <th>target</th>\n",
       "      <th>file_path</th>\n",
       "    </tr>\n",
       "  </thead>\n",
       "  <tbody>\n",
       "    <tr>\n",
       "      <th>0</th>\n",
       "      <td>0000799a2b2c42d</td>\n",
       "      <td>0</td>\n",
       "      <td>../input/seti-breakthrough-listen/train/0/0000...</td>\n",
       "    </tr>\n",
       "    <tr>\n",
       "      <th>1</th>\n",
       "      <td>00042890562ff68</td>\n",
       "      <td>0</td>\n",
       "      <td>../input/seti-breakthrough-listen/train/0/0004...</td>\n",
       "    </tr>\n",
       "    <tr>\n",
       "      <th>2</th>\n",
       "      <td>0005364cdcb8e5b</td>\n",
       "      <td>0</td>\n",
       "      <td>../input/seti-breakthrough-listen/train/0/0005...</td>\n",
       "    </tr>\n",
       "    <tr>\n",
       "      <th>3</th>\n",
       "      <td>0007a5a46901c56</td>\n",
       "      <td>0</td>\n",
       "      <td>../input/seti-breakthrough-listen/train/0/0007...</td>\n",
       "    </tr>\n",
       "    <tr>\n",
       "      <th>4</th>\n",
       "      <td>0009283e145448e</td>\n",
       "      <td>0</td>\n",
       "      <td>../input/seti-breakthrough-listen/train/0/0009...</td>\n",
       "    </tr>\n",
       "  </tbody>\n",
       "</table>\n",
       "</div>"
      ],
      "text/plain": [
       "                id  target                                          file_path\n",
       "0  0000799a2b2c42d       0  ../input/seti-breakthrough-listen/train/0/0000...\n",
       "1  00042890562ff68       0  ../input/seti-breakthrough-listen/train/0/0004...\n",
       "2  0005364cdcb8e5b       0  ../input/seti-breakthrough-listen/train/0/0005...\n",
       "3  0007a5a46901c56       0  ../input/seti-breakthrough-listen/train/0/0007...\n",
       "4  0009283e145448e       0  ../input/seti-breakthrough-listen/train/0/0009..."
      ]
     },
     "metadata": {},
     "output_type": "display_data"
    },
    {
     "data": {
      "text/html": [
       "<div>\n",
       "<style scoped>\n",
       "    .dataframe tbody tr th:only-of-type {\n",
       "        vertical-align: middle;\n",
       "    }\n",
       "\n",
       "    .dataframe tbody tr th {\n",
       "        vertical-align: top;\n",
       "    }\n",
       "\n",
       "    .dataframe thead th {\n",
       "        text-align: right;\n",
       "    }\n",
       "</style>\n",
       "<table border=\"1\" class=\"dataframe\">\n",
       "  <thead>\n",
       "    <tr style=\"text-align: right;\">\n",
       "      <th></th>\n",
       "      <th>id</th>\n",
       "      <th>target</th>\n",
       "      <th>file_path</th>\n",
       "    </tr>\n",
       "  </thead>\n",
       "  <tbody>\n",
       "    <tr>\n",
       "      <th>0</th>\n",
       "      <td>000bf832cae9ff1</td>\n",
       "      <td>0.5</td>\n",
       "      <td>../input/seti-breakthrough-listen/test/0/000bf...</td>\n",
       "    </tr>\n",
       "    <tr>\n",
       "      <th>1</th>\n",
       "      <td>000c74cc71a1140</td>\n",
       "      <td>0.5</td>\n",
       "      <td>../input/seti-breakthrough-listen/test/0/000c7...</td>\n",
       "    </tr>\n",
       "    <tr>\n",
       "      <th>2</th>\n",
       "      <td>000f5f9851161d3</td>\n",
       "      <td>0.5</td>\n",
       "      <td>../input/seti-breakthrough-listen/test/0/000f5...</td>\n",
       "    </tr>\n",
       "    <tr>\n",
       "      <th>3</th>\n",
       "      <td>000f7499e95aba6</td>\n",
       "      <td>0.5</td>\n",
       "      <td>../input/seti-breakthrough-listen/test/0/000f7...</td>\n",
       "    </tr>\n",
       "    <tr>\n",
       "      <th>4</th>\n",
       "      <td>00133ce6ec257f9</td>\n",
       "      <td>0.5</td>\n",
       "      <td>../input/seti-breakthrough-listen/test/0/00133...</td>\n",
       "    </tr>\n",
       "  </tbody>\n",
       "</table>\n",
       "</div>"
      ],
      "text/plain": [
       "                id  target                                          file_path\n",
       "0  000bf832cae9ff1     0.5  ../input/seti-breakthrough-listen/test/0/000bf...\n",
       "1  000c74cc71a1140     0.5  ../input/seti-breakthrough-listen/test/0/000c7...\n",
       "2  000f5f9851161d3     0.5  ../input/seti-breakthrough-listen/test/0/000f5...\n",
       "3  000f7499e95aba6     0.5  ../input/seti-breakthrough-listen/test/0/000f7...\n",
       "4  00133ce6ec257f9     0.5  ../input/seti-breakthrough-listen/test/0/00133..."
      ]
     },
     "metadata": {},
     "output_type": "display_data"
    }
   ],
   "source": [
    "train = pd.read_csv('../input/seti-breakthrough-listen/train_labels.csv')\n",
    "test = pd.read_csv('../input/seti-breakthrough-listen/sample_submission.csv')\n",
    "\n",
    "def get_train_file_path(image_id):\n",
    "    return \"../input/seti-breakthrough-listen/train/{}/{}.npy\".format(image_id[0], image_id)\n",
    "\n",
    "def get_test_file_path(image_id):\n",
    "    return \"../input/seti-breakthrough-listen/test/{}/{}.npy\".format(image_id[0], image_id)\n",
    "\n",
    "train['file_path'] = train['id'].apply(get_train_file_path)\n",
    "test['file_path'] = test['id'].apply(get_test_file_path)\n",
    "\n",
    "display(train.head())\n",
    "display(test.head())"
   ]
  },
  {
   "cell_type": "markdown",
   "id": "beneficial-liverpool",
   "metadata": {
    "papermill": {
     "duration": 0.020833,
     "end_time": "2021-07-15T21:49:06.004975",
     "exception": false,
     "start_time": "2021-07-15T21:49:05.984142",
     "status": "completed"
    },
    "tags": []
   },
   "source": [
    "# Quick EDA"
   ]
  },
  {
   "cell_type": "code",
   "execution_count": 3,
   "id": "medical-illustration",
   "metadata": {
    "execution": {
     "iopub.execute_input": "2021-07-15T21:49:06.054141Z",
     "iopub.status.busy": "2021-07-15T21:49:06.053390Z",
     "iopub.status.idle": "2021-07-15T21:49:07.916705Z",
     "shell.execute_reply": "2021-07-15T21:49:07.917209Z"
    },
    "papermill": {
     "duration": 1.891963,
     "end_time": "2021-07-15T21:49:07.917381",
     "exception": false,
     "start_time": "2021-07-15T21:49:06.025418",
     "status": "completed"
    },
    "tags": []
   },
   "outputs": [
    {
     "data": {
      "image/png": "[encoded data removed]",
      "text/plain": [
       "<Figure size 720x576 with 10 Axes>"
      ]
     },
     "metadata": {
      "needs_background": "light"
     },
     "output_type": "display_data"
    }
   ],
   "source": [
    "plt.figure(figsize=(10, 8))\n",
    "for i in range(10):\n",
    "    image = np.load(train.loc[i, 'file_path']) # (6, 273, 256)\n",
    "    image = image[::2].astype(np.float32)\n",
    "    image = np.vstack(image).transpose((1, 0)) # (1638, 256) -> (256, 1638)\n",
    "    plt.subplot(5, 2, i + 1)\n",
    "    plt.imshow(image)\n",
    "plt.show()"
   ]
  },
  {
   "cell_type": "code",
   "execution_count": 4,
   "id": "consolidated-destiny",
   "metadata": {
    "execution": {
     "iopub.execute_input": "2021-07-15T21:49:07.977965Z",
     "iopub.status.busy": "2021-07-15T21:49:07.977224Z",
     "iopub.status.idle": "2021-07-15T21:49:08.136008Z",
     "shell.execute_reply": "2021-07-15T21:49:08.135569Z"
    },
    "papermill": {
     "duration": 0.191422,
     "end_time": "2021-07-15T21:49:08.136123",
     "exception": false,
     "start_time": "2021-07-15T21:49:07.944701",
     "status": "completed"
    },
    "tags": []
   },
   "outputs": [
    {
     "data": {
      "text/plain": [
       "<AxesSubplot:>"
      ]
     },
     "execution_count": 4,
     "metadata": {},
     "output_type": "execute_result"
    },
    {
     "data": {
      "image/png": "[encoded data removed]",
      "text/plain": [
       "<Figure size 432x288 with 1 Axes>"
      ]
     },
     "metadata": {
      "needs_background": "light"
     },
     "output_type": "display_data"
    }
   ],
   "source": [
    "train['target'].hist()"
   ]
  },
  {
   "cell_type": "markdown",
   "id": "sexual-veteran",
   "metadata": {
    "papermill": {
     "duration": 0.030421,
     "end_time": "2021-07-15T21:49:08.194592",
     "exception": false,
     "start_time": "2021-07-15T21:49:08.164171",
     "status": "completed"
    },
    "tags": []
   },
   "source": [
    "# Directory settings"
   ]
  },
  {
   "cell_type": "code",
   "execution_count": 5,
   "id": "mathematical-forth",
   "metadata": {
    "execution": {
     "iopub.execute_input": "2021-07-15T21:49:08.253951Z",
     "iopub.status.busy": "2021-07-15T21:49:08.253136Z",
     "iopub.status.idle": "2021-07-15T21:49:08.255584Z",
     "shell.execute_reply": "2021-07-15T21:49:08.256021Z"
    },
    "papermill": {
     "duration": 0.033853,
     "end_time": "2021-07-15T21:49:08.256142",
     "exception": false,
     "start_time": "2021-07-15T21:49:08.222289",
     "status": "completed"
    },
    "tags": []
   },
   "outputs": [],
   "source": [
    "# ====================================================\n",
    "# Directory settings\n",
    "# ====================================================\n",
    "import os\n",
    "\n",
    "OUTPUT_DIR = './'\n",
    "if not os.path.exists(OUTPUT_DIR):\n",
    "    os.makedirs(OUTPUT_DIR)"
   ]
  },
  {
   "cell_type": "markdown",
   "id": "constant-jordan",
   "metadata": {
    "papermill": {
     "duration": 0.029494,
     "end_time": "2021-07-15T21:49:08.315716",
     "exception": false,
     "start_time": "2021-07-15T21:49:08.286222",
     "status": "completed"
    },
    "tags": []
   },
   "source": [
    "# CFG"
   ]
  },
  {
   "cell_type": "code",
   "execution_count": 6,
   "id": "answering-bones",
   "metadata": {
    "execution": {
     "iopub.execute_input": "2021-07-15T21:49:08.380949Z",
     "iopub.status.busy": "2021-07-15T21:49:08.380063Z",
     "iopub.status.idle": "2021-07-15T21:49:08.382861Z",
     "shell.execute_reply": "2021-07-15T21:49:08.382362Z"
    },
    "papermill": {
     "duration": 0.038936,
     "end_time": "2021-07-15T21:49:08.382981",
     "exception": false,
     "start_time": "2021-07-15T21:49:08.344045",
     "status": "completed"
    },
    "tags": []
   },
   "outputs": [],
   "source": [
    "# ====================================================\n",
    "# CFG\n",
    "# ====================================================\n",
    "class CFG:\n",
    "    apex=False\n",
    "    debug=False\n",
    "    print_freq=100\n",
    "    num_workers=4\n",
    "    model_name='nfnet_l0'\n",
    "    size=224\n",
    "    scheduler='CosineAnnealingLR' # ['ReduceLROnPlateau', 'CosineAnnealingLR', 'CosineAnnealingWarmRestarts']\n",
    "    epochs=6\n",
    "    #factor=0.2 # ReduceLROnPlateau\n",
    "    #patience=4 # ReduceLROnPlateau\n",
    "    #eps=1e-6 # ReduceLROnPlateau\n",
    "    T_max=6 # CosineAnnealingLR\n",
    "    #T_0=6 # CosineAnnealingWarmRestarts\n",
    "    lr=1e-4\n",
    "    min_lr=1e-6\n",
    "    batch_size=64\n",
    "    weight_decay=1e-6\n",
    "    gradient_accumulation_steps=1\n",
    "    max_grad_norm=1000\n",
    "    seed=42\n",
    "    target_size=1\n",
    "    target_col='target'\n",
    "    n_fold=4\n",
    "    trn_fold=[0, 1, 2, 3]\n",
    "    train=True\n",
    "    \n",
    "if CFG.debug:\n",
    "    CFG.epochs = 1\n",
    "    train = train.sample(n=1000, random_state=CFG.seed).reset_index(drop=True)"
   ]
  },
  {
   "cell_type": "markdown",
   "id": "latin-anderson",
   "metadata": {
    "papermill": {
     "duration": 0.027997,
     "end_time": "2021-07-15T21:49:08.441268",
     "exception": false,
     "start_time": "2021-07-15T21:49:08.413271",
     "status": "completed"
    },
    "tags": []
   },
   "source": [
    "# Library"
   ]
  },
  {
   "cell_type": "code",
   "execution_count": 7,
   "id": "armed-roller",
   "metadata": {
    "execution": {
     "iopub.execute_input": "2021-07-15T21:49:08.510075Z",
     "iopub.status.busy": "2021-07-15T21:49:08.509324Z",
     "iopub.status.idle": "2021-07-15T21:49:12.115767Z",
     "shell.execute_reply": "2021-07-15T21:49:12.114692Z"
    },
    "papermill": {
     "duration": 3.646523,
     "end_time": "2021-07-15T21:49:12.115979",
     "exception": false,
     "start_time": "2021-07-15T21:49:08.469456",
     "status": "completed"
    },
    "tags": []
   },
   "outputs": [],
   "source": [
    "# ====================================================\n",
    "# Library\n",
    "# ====================================================\n",
    "import sys\n",
    "sys.path.append('../input/pytorch-image-models/pytorch-image-models-master')\n",
    "\n",
    "import os\n",
    "import math\n",
    "import time\n",
    "import random\n",
    "import shutil\n",
    "from pathlib import Path\n",
    "from contextlib import contextmanager\n",
    "from collections import defaultdict, Counter\n",
    "\n",
    "import scipy as sp\n",
    "import numpy as np\n",
    "import pandas as pd\n",
    "\n",
    "from sklearn import preprocessing\n",
    "from sklearn.metrics import roc_auc_score\n",
    "from sklearn.model_selection import StratifiedKFold, GroupKFold, KFold\n",
    "\n",
    "from tqdm.auto import tqdm\n",
    "from functools import partial\n",
    "\n",
    "import cv2\n",
    "from PIL import Image\n",
    "\n",
    "import torch\n",
    "import torch.nn as nn\n",
    "import torch.nn.functional as F\n",
    "from torch.optim import Adam, SGD\n",
    "import torchvision.models as models\n",
    "from torch.nn.parameter import Parameter\n",
    "from torch.utils.data import DataLoader, Dataset\n",
    "from torch.optim.lr_scheduler import CosineAnnealingWarmRestarts, CosineAnnealingLR, ReduceLROnPlateau\n",
    "\n",
    "import albumentations as A\n",
    "from albumentations.pytorch import ToTensorV2\n",
    "from albumentations import ImageOnlyTransform\n",
    "\n",
    "import timm\n",
    "\n",
    "from torch.cuda.amp import autocast, GradScaler\n",
    "\n",
    "import warnings \n",
    "warnings.filterwarnings('ignore')\n",
    "\n",
    "device = torch.device('cuda' if torch.cuda.is_available() else 'cpu')"
   ]
  },
  {
   "cell_type": "markdown",
   "id": "offshore-personal",
   "metadata": {
    "papermill": {
     "duration": 0.047783,
     "end_time": "2021-07-15T21:49:12.215725",
     "exception": false,
     "start_time": "2021-07-15T21:49:12.167942",
     "status": "completed"
    },
    "tags": []
   },
   "source": [
    "# Utils"
   ]
  },
  {
   "cell_type": "code",
   "execution_count": 8,
   "id": "chronic-radiation",
   "metadata": {
    "execution": {
     "iopub.execute_input": "2021-07-15T21:49:12.332389Z",
     "iopub.status.busy": "2021-07-15T21:49:12.331444Z",
     "iopub.status.idle": "2021-07-15T21:49:12.337843Z",
     "shell.execute_reply": "2021-07-15T21:49:12.338449Z"
    },
    "papermill": {
     "duration": 0.075145,
     "end_time": "2021-07-15T21:49:12.338648",
     "exception": false,
     "start_time": "2021-07-15T21:49:12.263503",
     "status": "completed"
    },
    "tags": []
   },
   "outputs": [],
   "source": [
    "# ====================================================\n",
    "# Utils\n",
    "# ====================================================\n",
    "def get_score(y_true, y_pred):\n",
    "    score = roc_auc_score(y_true, y_pred)\n",
    "    return score\n",
    "\n",
    "\n",
    "def init_logger(log_file=OUTPUT_DIR+'train.log'):\n",
    "    from logging import getLogger, INFO, FileHandler,  Formatter,  StreamHandler\n",
    "    logger = getLogger(__name__)\n",
    "    logger.setLevel(INFO)\n",
    "    handler1 = StreamHandler()\n",
    "    handler1.setFormatter(Formatter(\"%(message)s\"))\n",
    "    handler2 = FileHandler(filename=log_file)\n",
    "    handler2.setFormatter(Formatter(\"%(message)s\"))\n",
    "    logger.addHandler(handler1)\n",
    "    logger.addHandler(handler2)\n",
    "    return logger\n",
    "\n",
    "LOGGER = init_logger()\n",
    "\n",
    "\n",
    "def seed_torch(seed=42):\n",
    "    random.seed(seed)\n",
    "    os.environ['PYTHONHASHSEED'] = str(seed)\n",
    "    np.random.seed(seed)\n",
    "    torch.manual_seed(seed)\n",
    "    torch.cuda.manual_seed(seed)\n",
    "    torch.backends.cudnn.deterministic = True\n",
    "\n",
    "seed_torch(seed=CFG.seed)"
   ]
  },
  {
   "cell_type": "markdown",
   "id": "corrected-japan",
   "metadata": {
    "papermill": {
     "duration": 0.046245,
     "end_time": "2021-07-15T21:49:12.435722",
     "exception": false,
     "start_time": "2021-07-15T21:49:12.389477",
     "status": "completed"
    },
    "tags": []
   },
   "source": [
    "# CV split"
   ]
  },
  {
   "cell_type": "code",
   "execution_count": 9,
   "id": "joined-transparency",
   "metadata": {
    "execution": {
     "iopub.execute_input": "2021-07-15T21:49:12.552526Z",
     "iopub.status.busy": "2021-07-15T21:49:12.551628Z",
     "iopub.status.idle": "2021-07-15T21:49:12.600666Z",
     "shell.execute_reply": "2021-07-15T21:49:12.601459Z"
    },
    "papermill": {
     "duration": 0.120683,
     "end_time": "2021-07-15T21:49:12.601724",
     "exception": false,
     "start_time": "2021-07-15T21:49:12.481041",
     "status": "completed"
    },
    "tags": []
   },
   "outputs": [
    {
     "data": {
      "text/plain": [
       "fold  target\n",
       "0     0         13500\n",
       "      1          1500\n",
       "1     0         13500\n",
       "      1          1500\n",
       "2     0         13500\n",
       "      1          1500\n",
       "3     0         13500\n",
       "      1          1500\n",
       "dtype: int64"
      ]
     },
     "metadata": {},
     "output_type": "display_data"
    }
   ],
   "source": [
    "Fold = StratifiedKFold(n_splits=CFG.n_fold, shuffle=True, random_state=CFG.seed)\n",
    "for n, (train_index, val_index) in enumerate(Fold.split(train, train[CFG.target_col])):\n",
    "    train.loc[val_index, 'fold'] = int(n)\n",
    "train['fold'] = train['fold'].astype(int)\n",
    "display(train.groupby(['fold', 'target']).size())"
   ]
  },
  {
   "cell_type": "markdown",
   "id": "potential-montreal",
   "metadata": {
    "papermill": {
     "duration": 0.049119,
     "end_time": "2021-07-15T21:49:12.701387",
     "exception": false,
     "start_time": "2021-07-15T21:49:12.652268",
     "status": "completed"
    },
    "tags": []
   },
   "source": [
    "# Dataset"
   ]
  },
  {
   "cell_type": "code",
   "execution_count": 10,
   "id": "popular-entrepreneur",
   "metadata": {
    "execution": {
     "iopub.execute_input": "2021-07-15T21:49:12.812281Z",
     "iopub.status.busy": "2021-07-15T21:49:12.811403Z",
     "iopub.status.idle": "2021-07-15T21:49:12.816411Z",
     "shell.execute_reply": "2021-07-15T21:49:12.817523Z"
    },
    "papermill": {
     "duration": 0.066144,
     "end_time": "2021-07-15T21:49:12.817745",
     "exception": false,
     "start_time": "2021-07-15T21:49:12.751601",
     "status": "completed"
    },
    "tags": []
   },
   "outputs": [],
   "source": [
    "# ====================================================\n",
    "# Dataset\n",
    "# ====================================================\n",
    "class TrainDataset(Dataset):\n",
    "    def __init__(self, df, transform=None):\n",
    "        self.df = df\n",
    "        self.file_names = df['file_path'].values\n",
    "        self.labels = df[CFG.target_col].values\n",
    "        self.transform = transform\n",
    "        \n",
    "    def __len__(self):\n",
    "        return len(self.df)\n",
    "\n",
    "    def __getitem__(self, idx):\n",
    "        file_path = self.file_names[idx]\n",
    "        image = np.load(file_path)\n",
    "        image = image[::2].astype(np.float32)\n",
    "        image = np.vstack(image).transpose((1, 0))\n",
    "        if self.transform:\n",
    "            image = self.transform(image=image)['image']\n",
    "        else:\n",
    "            image = image[np.newaxis,:,:]\n",
    "            image = torch.from_numpy(image).float()\n",
    "        label = torch.tensor(self.labels[idx]).float()\n",
    "        return image, label"
   ]
  },
  {
   "cell_type": "markdown",
   "id": "disciplinary-atlanta",
   "metadata": {
    "papermill": {
     "duration": 0.047314,
     "end_time": "2021-07-15T21:49:12.915083",
     "exception": false,
     "start_time": "2021-07-15T21:49:12.867769",
     "status": "completed"
    },
    "tags": []
   },
   "source": [
    "# Transforms"
   ]
  },
  {
   "cell_type": "code",
   "execution_count": 11,
   "id": "corrected-costa",
   "metadata": {
    "execution": {
     "iopub.execute_input": "2021-07-15T21:49:13.031146Z",
     "iopub.status.busy": "2021-07-15T21:49:13.030227Z",
     "iopub.status.idle": "2021-07-15T21:49:13.034022Z",
     "shell.execute_reply": "2021-07-15T21:49:13.034564Z"
    },
    "papermill": {
     "duration": 0.062821,
     "end_time": "2021-07-15T21:49:13.034770",
     "exception": false,
     "start_time": "2021-07-15T21:49:12.971949",
     "status": "completed"
    },
    "tags": []
   },
   "outputs": [],
   "source": [
    "# ====================================================\n",
    "# Transforms\n",
    "# ====================================================\n",
    "def get_transforms(*, data):\n",
    "    \n",
    "    if data == 'train':\n",
    "        return A.Compose([\n",
    "            A.Resize(CFG.size, CFG.size),\n",
    "            ToTensorV2(),\n",
    "        ])\n",
    "\n",
    "    elif data == 'valid':\n",
    "        return A.Compose([\n",
    "            A.Resize(CFG.size, CFG.size),\n",
    "            ToTensorV2(),\n",
    "        ])"
   ]
  },
  {
   "cell_type": "markdown",
   "id": "russian-freight",
   "metadata": {
    "papermill": {
     "duration": 0.049185,
     "end_time": "2021-07-15T21:49:13.133460",
     "exception": false,
     "start_time": "2021-07-15T21:49:13.084275",
     "status": "completed"
    },
    "tags": []
   },
   "source": [
    "# MODEL"
   ]
  },
  {
   "cell_type": "code",
   "execution_count": 12,
   "id": "pending-crowd",
   "metadata": {
    "execution": {
     "iopub.execute_input": "2021-07-15T21:49:13.244600Z",
     "iopub.status.busy": "2021-07-15T21:49:13.243744Z",
     "iopub.status.idle": "2021-07-15T21:49:13.248545Z",
     "shell.execute_reply": "2021-07-15T21:49:13.249147Z"
    },
    "papermill": {
     "duration": 0.066033,
     "end_time": "2021-07-15T21:49:13.249343",
     "exception": false,
     "start_time": "2021-07-15T21:49:13.183310",
     "status": "completed"
    },
    "tags": []
   },
   "outputs": [],
   "source": [
    "# ====================================================\n",
    "# MODEL\n",
    "# ====================================================\n",
    "class CustomModel(nn.Module):\n",
    "    def __init__(self, cfg, pretrained=False):\n",
    "        super().__init__()\n",
    "        self.cfg = cfg\n",
    "        self.model = timm.create_model(self.cfg.model_name, pretrained=pretrained, in_chans=1)\n",
    "        self.n_features = self.model.head.fc.in_features\n",
    "        self.model.head.fc = nn.Linear(self.n_features, self.cfg.target_size)\n",
    "\n",
    "    def forward(self, x):\n",
    "        output = self.model(x)\n",
    "        return output"
   ]
  },
  {
   "cell_type": "markdown",
   "id": "experimental-favorite",
   "metadata": {
    "papermill": {
     "duration": 0.031881,
     "end_time": "2021-07-15T21:49:13.331389",
     "exception": false,
     "start_time": "2021-07-15T21:49:13.299508",
     "status": "completed"
    },
    "tags": []
   },
   "source": [
    "# Helper functions"
   ]
  },
  {
   "cell_type": "code",
   "execution_count": 13,
   "id": "descending-belfast",
   "metadata": {
    "execution": {
     "iopub.execute_input": "2021-07-15T21:49:13.414984Z",
     "iopub.status.busy": "2021-07-15T21:49:13.404843Z",
     "iopub.status.idle": "2021-07-15T21:49:13.417114Z",
     "shell.execute_reply": "2021-07-15T21:49:13.417612Z"
    },
    "papermill": {
     "duration": 0.056409,
     "end_time": "2021-07-15T21:49:13.417774",
     "exception": false,
     "start_time": "2021-07-15T21:49:13.361365",
     "status": "completed"
    },
    "tags": []
   },
   "outputs": [],
   "source": [
    "# ====================================================\n",
    "# Helper functions\n",
    "# ====================================================\n",
    "class AverageMeter(object):\n",
    "    \"\"\"Computes and stores the average and current value\"\"\"\n",
    "    def __init__(self):\n",
    "        self.reset()\n",
    "\n",
    "    def reset(self):\n",
    "        self.val = 0\n",
    "        self.avg = 0\n",
    "        self.sum = 0\n",
    "        self.count = 0\n",
    "\n",
    "    def update(self, val, n=1):\n",
    "        self.val = val\n",
    "        self.sum += val * n\n",
    "        self.count += n\n",
    "        self.avg = self.sum / self.count\n",
    "\n",
    "\n",
    "def asMinutes(s):\n",
    "    m = math.floor(s / 60)\n",
    "    s -= m * 60\n",
    "    return '%dm %ds' % (m, s)\n",
    "\n",
    "\n",
    "def timeSince(since, percent):\n",
    "    now = time.time()\n",
    "    s = now - since\n",
    "    es = s / (percent)\n",
    "    rs = es - s\n",
    "    return '%s (remain %s)' % (asMinutes(s), asMinutes(rs))\n",
    "\n",
    "\n",
    "def train_fn(train_loader, model, criterion, optimizer, epoch, scheduler, device):\n",
    "    if CFG.apex:\n",
    "        scaler = GradScaler()\n",
    "    batch_time = AverageMeter()\n",
    "    data_time = AverageMeter()\n",
    "    losses = AverageMeter()\n",
    "    scores = AverageMeter()\n",
    "    # switch to train mode\n",
    "    model.train()\n",
    "    start = end = time.time()\n",
    "    global_step = 0\n",
    "    for step, (images, labels) in enumerate(train_loader):\n",
    "        # measure data loading time\n",
    "        data_time.update(time.time() - end)\n",
    "        images = images.to(device)\n",
    "        labels = labels.to(device)\n",
    "        batch_size = labels.size(0)\n",
    "        if CFG.apex:\n",
    "            with autocast():\n",
    "                y_preds = model(images)\n",
    "                loss = criterion(y_preds.view(-1), labels)\n",
    "        else:\n",
    "            y_preds = model(images)\n",
    "            loss = criterion(y_preds.view(-1), labels)\n",
    "        # record loss\n",
    "        losses.update(loss.item(), batch_size)\n",
    "        if CFG.gradient_accumulation_steps > 1:\n",
    "            loss = loss / CFG.gradient_accumulation_steps\n",
    "        if CFG.apex:\n",
    "            scaler.scale(loss).backward()\n",
    "        else:\n",
    "            loss.backward()\n",
    "        grad_norm = torch.nn.utils.clip_grad_norm_(model.parameters(), CFG.max_grad_norm)\n",
    "        if (step + 1) % CFG.gradient_accumulation_steps == 0:\n",
    "            if CFG.apex:\n",
    "                scaler.step(optimizer)\n",
    "                scaler.update()\n",
    "            else:\n",
    "                optimizer.step()\n",
    "            optimizer.zero_grad()\n",
    "            global_step += 1\n",
    "        # measure elapsed time\n",
    "        batch_time.update(time.time() - end)\n",
    "        end = time.time()\n",
    "        if step % CFG.print_freq == 0 or step == (len(train_loader)-1):\n",
    "            print('Epoch: [{0}][{1}/{2}] '\n",
    "                  'Data {data_time.val:.3f} ({data_time.avg:.3f}) '\n",
    "                  'Elapsed {remain:s} '\n",
    "                  'Loss: {loss.val:.4f}({loss.avg:.4f}) '\n",
    "                  'Grad: {grad_norm:.4f}  '\n",
    "                  #'LR: {lr:.6f}  '\n",
    "                  .format(\n",
    "                   epoch+1, step, len(train_loader), batch_time=batch_time,\n",
    "                   data_time=data_time, loss=losses,\n",
    "                   remain=timeSince(start, float(step+1)/len(train_loader)),\n",
    "                   grad_norm=grad_norm,\n",
    "                   #lr=scheduler.get_lr()[0],\n",
    "                   ))\n",
    "    return losses.avg\n",
    "\n",
    "\n",
    "def valid_fn(valid_loader, model, criterion, device):\n",
    "    batch_time = AverageMeter()\n",
    "    data_time = AverageMeter()\n",
    "    losses = AverageMeter()\n",
    "    scores = AverageMeter()\n",
    "    # switch to evaluation mode\n",
    "    model.eval()\n",
    "    preds = []\n",
    "    start = end = time.time()\n",
    "    for step, (images, labels) in enumerate(valid_loader):\n",
    "        # measure data loading time\n",
    "        data_time.update(time.time() - end)\n",
    "        images = images.to(device)\n",
    "        labels = labels.to(device)\n",
    "        batch_size = labels.size(0)\n",
    "        # compute loss\n",
    "        with torch.no_grad():\n",
    "            y_preds = model(images)\n",
    "        loss = criterion(y_preds.view(-1), labels)\n",
    "        losses.update(loss.item(), batch_size)\n",
    "        # record accuracy\n",
    "        preds.append(y_preds.sigmoid().to('cpu').numpy())\n",
    "        if CFG.gradient_accumulation_steps > 1:\n",
    "            loss = loss / CFG.gradient_accumulation_steps\n",
    "        # measure elapsed time\n",
    "        batch_time.update(time.time() - end)\n",
    "        end = time.time()\n",
    "        if step % CFG.print_freq == 0 or step == (len(valid_loader)-1):\n",
    "            print('EVAL: [{0}/{1}] '\n",
    "                  'Data {data_time.val:.3f} ({data_time.avg:.3f}) '\n",
    "                  'Elapsed {remain:s} '\n",
    "                  'Loss: {loss.val:.4f}({loss.avg:.4f}) '\n",
    "                  .format(\n",
    "                   step, len(valid_loader), batch_time=batch_time,\n",
    "                   data_time=data_time, loss=losses,\n",
    "                   remain=timeSince(start, float(step+1)/len(valid_loader)),\n",
    "                   ))\n",
    "    predictions = np.concatenate(preds)\n",
    "    return losses.avg, predictions"
   ]
  },
  {
   "cell_type": "markdown",
   "id": "unique-variable",
   "metadata": {
    "papermill": {
     "duration": 0.029203,
     "end_time": "2021-07-15T21:49:13.476006",
     "exception": false,
     "start_time": "2021-07-15T21:49:13.446803",
     "status": "completed"
    },
    "tags": []
   },
   "source": [
    "# Train loop"
   ]
  },
  {
   "cell_type": "code",
   "execution_count": 14,
   "id": "sitting-puzzle",
   "metadata": {
    "_cell_guid": "b1076dfc-b9ad-4769-8c92-a6c4dae69d19",
    "_uuid": "8f2839f25d086af736a60e9eeb907d3b93b6e0e5",
    "execution": {
     "iopub.execute_input": "2021-07-15T21:49:13.553566Z",
     "iopub.status.busy": "2021-07-15T21:49:13.552131Z",
     "iopub.status.idle": "2021-07-15T21:49:13.554900Z",
     "shell.execute_reply": "2021-07-15T21:49:13.554488Z"
    },
    "papermill": {
     "duration": 0.048901,
     "end_time": "2021-07-15T21:49:13.555011",
     "exception": false,
     "start_time": "2021-07-15T21:49:13.506110",
     "status": "completed"
    },
    "tags": []
   },
   "outputs": [],
   "source": [
    "# ====================================================\n",
    "# Train loop\n",
    "# ====================================================\n",
    "def train_loop(folds, fold):\n",
    "    \n",
    "    LOGGER.info(f\"========== fold: {fold} training ==========\")\n",
    "\n",
    "    # ====================================================\n",
    "    # loader\n",
    "    # ====================================================\n",
    "    trn_idx = folds[folds['fold'] != fold].index\n",
    "    val_idx = folds[folds['fold'] == fold].index\n",
    "\n",
    "    train_folds = folds.loc[trn_idx].reset_index(drop=True)\n",
    "    valid_folds = folds.loc[val_idx].reset_index(drop=True)\n",
    "    valid_labels = valid_folds[CFG.target_col].values\n",
    "\n",
    "    train_dataset = TrainDataset(train_folds, \n",
    "                                 transform=get_transforms(data='train'))\n",
    "    valid_dataset = TrainDataset(valid_folds, \n",
    "                                 transform=get_transforms(data='valid'))\n",
    "\n",
    "    train_loader = DataLoader(train_dataset, \n",
    "                              batch_size=CFG.batch_size, \n",
    "                              shuffle=True, \n",
    "                              num_workers=CFG.num_workers, pin_memory=True, drop_last=True)\n",
    "    valid_loader = DataLoader(valid_dataset, \n",
    "                              batch_size=CFG.batch_size * 2, \n",
    "                              shuffle=False, \n",
    "                              num_workers=CFG.num_workers, pin_memory=True, drop_last=False)\n",
    "    \n",
    "    # ====================================================\n",
    "    # scheduler \n",
    "    # ====================================================\n",
    "    def get_scheduler(optimizer):\n",
    "        if CFG.scheduler=='ReduceLROnPlateau':\n",
    "            scheduler = ReduceLROnPlateau(optimizer, mode='min', factor=CFG.factor, patience=CFG.patience, verbose=True, eps=CFG.eps)\n",
    "        elif CFG.scheduler=='CosineAnnealingLR':\n",
    "            scheduler = CosineAnnealingLR(optimizer, T_max=CFG.T_max, eta_min=CFG.min_lr, last_epoch=-1)\n",
    "        elif CFG.scheduler=='CosineAnnealingWarmRestarts':\n",
    "            scheduler = CosineAnnealingWarmRestarts(optimizer, T_0=CFG.T_0, T_mult=1, eta_min=CFG.min_lr, last_epoch=-1)\n",
    "        return scheduler\n",
    "\n",
    "    # ====================================================\n",
    "    # model & optimizer\n",
    "    # ====================================================\n",
    "    model = CustomModel(CFG, pretrained=True)\n",
    "    model.to(device)\n",
    "\n",
    "    optimizer = Adam(model.parameters(), lr=CFG.lr, weight_decay=CFG.weight_decay, amsgrad=False)\n",
    "    scheduler = get_scheduler(optimizer)\n",
    "\n",
    "    # ====================================================\n",
    "    # loop\n",
    "    # ====================================================\n",
    "    criterion = nn.BCEWithLogitsLoss()\n",
    "\n",
    "    best_score = 0.\n",
    "    best_loss = np.inf\n",
    "    \n",
    "    for epoch in range(CFG.epochs):\n",
    "        \n",
    "        start_time = time.time()\n",
    "        \n",
    "        # train\n",
    "        avg_loss = train_fn(train_loader, model, criterion, optimizer, epoch, scheduler, device)\n",
    "\n",
    "        # eval\n",
    "        avg_val_loss, preds = valid_fn(valid_loader, model, criterion, device)\n",
    "        \n",
    "        if isinstance(scheduler, ReduceLROnPlateau):\n",
    "            scheduler.step(avg_val_loss)\n",
    "        elif isinstance(scheduler, CosineAnnealingLR):\n",
    "            scheduler.step()\n",
    "        elif isinstance(scheduler, CosineAnnealingWarmRestarts):\n",
    "            scheduler.step()\n",
    "\n",
    "        # scoring\n",
    "        score = get_score(valid_labels, preds)\n",
    "\n",
    "        elapsed = time.time() - start_time\n",
    "\n",
    "        LOGGER.info(f'Epoch {epoch+1} - avg_train_loss: {avg_loss:.4f}  avg_val_loss: {avg_val_loss:.4f}  time: {elapsed:.0f}s')\n",
    "        LOGGER.info(f'Epoch {epoch+1} - Score: {score:.4f}')\n",
    "\n",
    "        if score > best_score:\n",
    "            best_score = score\n",
    "            LOGGER.info(f'Epoch {epoch+1} - Save Best Score: {best_score:.4f} Model')\n",
    "            torch.save({'model': model.state_dict(), \n",
    "                        'preds': preds},\n",
    "                        OUTPUT_DIR+f'{CFG.model_name}_fold{fold}_best_score.pth')\n",
    "        \n",
    "        if avg_val_loss < best_loss:\n",
    "            best_loss = avg_val_loss\n",
    "            LOGGER.info(f'Epoch {epoch+1} - Save Best Loss: {best_loss:.4f} Model')\n",
    "            torch.save({'model': model.state_dict(), \n",
    "                        'preds': preds},\n",
    "                        OUTPUT_DIR+f'{CFG.model_name}_fold{fold}_best_loss.pth')\n",
    "    \n",
    "    valid_folds['preds'] = torch.load(OUTPUT_DIR+f'{CFG.model_name}_fold{fold}_best_loss.pth', \n",
    "                                      map_location=torch.device('cpu'))['preds']\n",
    "\n",
    "    return valid_folds"
   ]
  },
  {
   "cell_type": "code",
   "execution_count": 15,
   "id": "interesting-cathedral",
   "metadata": {
    "execution": {
     "iopub.execute_input": "2021-07-15T21:49:13.620821Z",
     "iopub.status.busy": "2021-07-15T21:49:13.620235Z",
     "iopub.status.idle": "2021-07-15T21:49:13.623520Z",
     "shell.execute_reply": "2021-07-15T21:49:13.623910Z"
    },
    "papermill": {
     "duration": 0.040068,
     "end_time": "2021-07-15T21:49:13.624040",
     "exception": false,
     "start_time": "2021-07-15T21:49:13.583972",
     "status": "completed"
    },
    "tags": []
   },
   "outputs": [],
   "source": [
    "# ====================================================\n",
    "# main\n",
    "# ====================================================\n",
    "def main():\n",
    "\n",
    "    \"\"\"\n",
    "    Prepare: 1.train \n",
    "    \"\"\"\n",
    "\n",
    "    def get_result(result_df):\n",
    "        preds = result_df['preds'].values\n",
    "        labels = result_df[CFG.target_col].values\n",
    "        score = get_score(labels, preds)\n",
    "        LOGGER.info(f'Score: {score:<.4f}')\n",
    "    \n",
    "    if CFG.train:\n",
    "        # train \n",
    "        oof_df = pd.DataFrame()\n",
    "        for fold in range(CFG.n_fold):\n",
    "            if fold in CFG.trn_fold:\n",
    "                _oof_df = train_loop(train, fold)\n",
    "                oof_df = pd.concat([oof_df, _oof_df])\n",
    "                LOGGER.info(f\"========== fold: {fold} result ==========\")\n",
    "                get_result(_oof_df)\n",
    "        # CV result\n",
    "        LOGGER.info(f\"========== CV ==========\")\n",
    "        get_result(oof_df)\n",
    "        # save result\n",
    "        oof_df.to_csv(OUTPUT_DIR+'oof_df.csv', index=False)"
   ]
  },
  {
   "cell_type": "code",
   "execution_count": 16,
   "id": "moral-growing",
   "metadata": {
    "_cell_guid": "79c7e3d0-c299-4dcb-8224-4455121ee9b0",
    "_uuid": "d629ff2d2480ee46fbb7e2d37f6b5fab8052498a",
    "execution": {
     "iopub.execute_input": "2021-07-15T21:49:13.686097Z",
     "iopub.status.busy": "2021-07-15T21:49:13.685510Z",
     "iopub.status.idle": "2021-07-16T02:16:42.557600Z",
     "shell.execute_reply": "2021-07-16T02:16:42.556620Z"
    },
    "papermill": {
     "duration": 16048.905347,
     "end_time": "2021-07-16T02:16:42.558534",
     "exception": false,
     "start_time": "2021-07-15T21:49:13.653187",
     "status": "completed"
    },
    "tags": []
   },
   "outputs": [
    {
     "name": "stderr",
     "output_type": "stream",
     "text": [
      "========== fold: 0 training ==========\n",
      "Downloading: \"https://github.com/rwightman/pytorch-image-models/releases/download/v0.1-weights/nfnet_l0_ra2-45c6688d.pth\" to /root/.cache/torch/hub/checkpoints/nfnet_l0_ra2-45c6688d.pth\n"
     ]
    },
    {
     "name": "stdout",
     "output_type": "stream",
     "text": [
      "Epoch: [1][0/703] Data 2.525 (2.525) Elapsed 0m 4s (remain 57m 9s) Loss: 0.7486(0.7486) Grad: 3.7939  \n",
      "Epoch: [1][100/703] Data 0.000 (0.025) Elapsed 1m 29s (remain 8m 53s) Loss: 0.2863(0.3195) Grad: 1.1732  \n",
      "Epoch: [1][200/703] Data 0.000 (0.013) Elapsed 2m 53s (remain 7m 13s) Loss: 0.2004(0.2898) Grad: 0.7562  \n",
      "Epoch: [1][300/703] Data 0.000 (0.009) Elapsed 4m 17s (remain 5m 44s) Loss: 0.3238(0.2782) Grad: 0.4333  \n",
      "Epoch: [1][400/703] Data 0.000 (0.006) Elapsed 5m 41s (remain 4m 17s) Loss: 0.3420(0.2743) Grad: 0.5945  \n",
      "Epoch: [1][500/703] Data 0.000 (0.005) Elapsed 7m 6s (remain 2m 51s) Loss: 0.1388(0.2696) Grad: 1.5845  \n",
      "Epoch: [1][600/703] Data 0.000 (0.004) Elapsed 8m 30s (remain 1m 26s) Loss: 0.1639(0.2649) Grad: 0.5945  \n",
      "Epoch: [1][700/703] Data 0.000 (0.004) Elapsed 9m 55s (remain 0m 1s) Loss: 0.1821(0.2617) Grad: 0.9457  \n",
      "Epoch: [1][702/703] Data 0.000 (0.004) Elapsed 9m 57s (remain 0m 0s) Loss: 0.1751(0.2613) Grad: 1.1253  \n",
      "EVAL: [0/118] Data 3.648 (3.648) Elapsed 0m 3s (remain 7m 42s) Loss: 0.3050(0.3050) \n",
      "EVAL: [100/118] Data 0.689 (0.351) Elapsed 1m 3s (remain 0m 10s) Loss: 0.2322(0.2321) \n"
     ]
    },
    {
     "name": "stderr",
     "output_type": "stream",
     "text": [
      "Epoch 1 - avg_train_loss: 0.2613  avg_val_loss: 0.2310  time: 670s\n",
      "Epoch 1 - Score: 0.7733\n",
      "Epoch 1 - Save Best Score: 0.7733 Model\n"
     ]
    },
    {
     "name": "stdout",
     "output_type": "stream",
     "text": [
      "EVAL: [117/118] Data 0.000 (0.342) Elapsed 1m 12s (remain 0m 0s) Loss: 0.1122(0.2310) \n"
     ]
    },
    {
     "name": "stderr",
     "output_type": "stream",
     "text": [
      "Epoch 1 - Save Best Loss: 0.2310 Model\n"
     ]
    },
    {
     "name": "stdout",
     "output_type": "stream",
     "text": [
      "Epoch: [2][0/703] Data 1.462 (1.462) Elapsed 0m 2s (remain 28m 28s) Loss: 0.1889(0.1889) Grad: 0.9876  \n",
      "Epoch: [2][100/703] Data 0.000 (0.015) Elapsed 1m 27s (remain 8m 42s) Loss: 0.3066(0.2120) Grad: 1.0602  \n",
      "Epoch: [2][200/703] Data 0.000 (0.007) Elapsed 2m 52s (remain 7m 9s) Loss: 0.1463(0.2173) Grad: 1.1151  \n",
      "Epoch: [2][300/703] Data 0.000 (0.005) Elapsed 4m 16s (remain 5m 42s) Loss: 0.1893(0.2223) Grad: 0.5533  \n",
      "Epoch: [2][400/703] Data 0.000 (0.004) Elapsed 5m 41s (remain 4m 16s) Loss: 0.2032(0.2237) Grad: 1.1686  \n",
      "Epoch: [2][500/703] Data 0.000 (0.003) Elapsed 7m 5s (remain 2m 51s) Loss: 0.2169(0.2246) Grad: 0.6536  \n",
      "Epoch: [2][600/703] Data 0.000 (0.003) Elapsed 8m 30s (remain 1m 26s) Loss: 0.1754(0.2234) Grad: 0.6935  \n",
      "Epoch: [2][700/703] Data 0.000 (0.002) Elapsed 9m 54s (remain 0m 1s) Loss: 0.2220(0.2227) Grad: 0.4679  \n",
      "Epoch: [2][702/703] Data 0.000 (0.002) Elapsed 9m 56s (remain 0m 0s) Loss: 0.1354(0.2224) Grad: 0.6104  \n",
      "EVAL: [0/118] Data 3.797 (3.797) Elapsed 0m 4s (remain 7m 58s) Loss: 0.2988(0.2988) \n",
      "EVAL: [100/118] Data 0.000 (0.340) Elapsed 1m 1s (remain 0m 10s) Loss: 0.2086(0.2254) \n"
     ]
    },
    {
     "name": "stderr",
     "output_type": "stream",
     "text": [
      "Epoch 2 - avg_train_loss: 0.2224  avg_val_loss: 0.2235  time: 668s\n",
      "Epoch 2 - Score: 0.7878\n",
      "Epoch 2 - Save Best Score: 0.7878 Model\n"
     ]
    },
    {
     "name": "stdout",
     "output_type": "stream",
     "text": [
      "EVAL: [117/118] Data 0.000 (0.335) Elapsed 1m 11s (remain 0m 0s) Loss: 0.1230(0.2235) \n"
     ]
    },
    {
     "name": "stderr",
     "output_type": "stream",
     "text": [
      "Epoch 2 - Save Best Loss: 0.2235 Model\n"
     ]
    },
    {
     "name": "stdout",
     "output_type": "stream",
     "text": [
      "Epoch: [3][0/703] Data 1.486 (1.486) Elapsed 0m 2s (remain 29m 3s) Loss: 0.2226(0.2226) Grad: 0.6923  \n",
      "Epoch: [3][100/703] Data 0.000 (0.015) Elapsed 1m 26s (remain 8m 37s) Loss: 0.2023(0.1997) Grad: 1.3878  \n",
      "Epoch: [3][200/703] Data 0.000 (0.008) Elapsed 2m 51s (remain 7m 8s) Loss: 0.1954(0.1927) Grad: 0.4809  \n",
      "Epoch: [3][300/703] Data 0.000 (0.005) Elapsed 4m 16s (remain 5m 41s) Loss: 0.2609(0.1960) Grad: 0.8281  \n",
      "Epoch: [3][400/703] Data 0.000 (0.004) Elapsed 5m 40s (remain 4m 16s) Loss: 0.2777(0.2001) Grad: 1.0849  \n",
      "Epoch: [3][500/703] Data 0.000 (0.003) Elapsed 7m 5s (remain 2m 51s) Loss: 0.1022(0.2021) Grad: 0.6233  \n",
      "Epoch: [3][600/703] Data 0.000 (0.003) Elapsed 8m 29s (remain 1m 26s) Loss: 0.2763(0.2033) Grad: 0.7452  \n",
      "Epoch: [3][700/703] Data 0.000 (0.002) Elapsed 9m 54s (remain 0m 1s) Loss: 0.1045(0.2028) Grad: 1.0335  \n",
      "Epoch: [3][702/703] Data 0.000 (0.002) Elapsed 9m 55s (remain 0m 0s) Loss: 0.3422(0.2029) Grad: 0.8566  \n",
      "EVAL: [0/118] Data 3.660 (3.660) Elapsed 0m 3s (remain 7m 41s) Loss: 0.3085(0.3085) \n",
      "EVAL: [100/118] Data 0.316 (0.335) Elapsed 1m 1s (remain 0m 10s) Loss: 0.2244(0.2241) \n"
     ]
    },
    {
     "name": "stderr",
     "output_type": "stream",
     "text": [
      "Epoch 3 - avg_train_loss: 0.2029  avg_val_loss: 0.2236  time: 666s\n",
      "Epoch 3 - Score: 0.7879\n",
      "Epoch 3 - Save Best Score: 0.7879 Model\n"
     ]
    },
    {
     "name": "stdout",
     "output_type": "stream",
     "text": [
      "EVAL: [117/118] Data 0.000 (0.322) Elapsed 1m 9s (remain 0m 0s) Loss: 0.1241(0.2236) \n",
      "Epoch: [4][0/703] Data 1.407 (1.407) Elapsed 0m 2s (remain 26m 36s) Loss: 0.2208(0.2208) Grad: 0.9159  \n",
      "Epoch: [4][100/703] Data 0.000 (0.014) Elapsed 1m 26s (remain 8m 37s) Loss: 0.0869(0.1780) Grad: 0.3320  \n",
      "Epoch: [4][200/703] Data 0.000 (0.007) Elapsed 2m 51s (remain 7m 7s) Loss: 0.1460(0.1775) Grad: 0.7892  \n",
      "Epoch: [4][300/703] Data 0.000 (0.005) Elapsed 4m 15s (remain 5m 41s) Loss: 0.1479(0.1730) Grad: 2.4135  \n",
      "Epoch: [4][400/703] Data 0.000 (0.004) Elapsed 5m 40s (remain 4m 16s) Loss: 0.2449(0.1749) Grad: 1.3871  \n",
      "Epoch: [4][500/703] Data 0.000 (0.003) Elapsed 7m 4s (remain 2m 51s) Loss: 0.1283(0.1762) Grad: 0.2935  \n",
      "Epoch: [4][600/703] Data 0.000 (0.003) Elapsed 8m 29s (remain 1m 26s) Loss: 0.1424(0.1760) Grad: 0.7143  \n",
      "Epoch: [4][700/703] Data 0.000 (0.002) Elapsed 9m 53s (remain 0m 1s) Loss: 0.0645(0.1744) Grad: 0.9779  \n",
      "Epoch: [4][702/703] Data 0.000 (0.002) Elapsed 9m 55s (remain 0m 0s) Loss: 0.1918(0.1743) Grad: 2.1497  \n",
      "EVAL: [0/118] Data 3.639 (3.639) Elapsed 0m 3s (remain 7m 40s) Loss: 0.3004(0.3004) \n",
      "EVAL: [100/118] Data 0.000 (0.335) Elapsed 1m 1s (remain 0m 10s) Loss: 0.2387(0.2276) \n"
     ]
    },
    {
     "name": "stderr",
     "output_type": "stream",
     "text": [
      "Epoch 4 - avg_train_loss: 0.1743  avg_val_loss: 0.2267  time: 666s\n",
      "Epoch 4 - Score: 0.7838\n"
     ]
    },
    {
     "name": "stdout",
     "output_type": "stream",
     "text": [
      "EVAL: [117/118] Data 0.000 (0.326) Elapsed 1m 10s (remain 0m 0s) Loss: 0.1496(0.2267) \n",
      "Epoch: [5][0/703] Data 1.264 (1.264) Elapsed 0m 2s (remain 25m 41s) Loss: 0.1850(0.1850) Grad: 0.9466  \n",
      "Epoch: [5][100/703] Data 0.000 (0.013) Elapsed 1m 26s (remain 8m 36s) Loss: 0.1147(0.1390) Grad: 1.8995  \n",
      "Epoch: [5][200/703] Data 0.000 (0.006) Elapsed 2m 51s (remain 7m 7s) Loss: 0.0972(0.1365) Grad: 2.0345  \n",
      "Epoch: [5][300/703] Data 0.000 (0.004) Elapsed 4m 15s (remain 5m 41s) Loss: 0.0833(0.1354) Grad: 0.4795  \n",
      "Epoch: [5][400/703] Data 0.000 (0.003) Elapsed 5m 40s (remain 4m 16s) Loss: 0.1858(0.1369) Grad: 1.1682  \n",
      "Epoch: [5][500/703] Data 0.000 (0.003) Elapsed 7m 5s (remain 2m 51s) Loss: 0.0817(0.1378) Grad: 1.2869  \n",
      "Epoch: [5][600/703] Data 0.000 (0.002) Elapsed 8m 29s (remain 1m 26s) Loss: 0.0469(0.1380) Grad: 2.1471  \n",
      "Epoch: [5][700/703] Data 0.000 (0.002) Elapsed 9m 54s (remain 0m 1s) Loss: 0.0726(0.1380) Grad: 0.3336  \n",
      "Epoch: [5][702/703] Data 0.000 (0.002) Elapsed 9m 55s (remain 0m 0s) Loss: 0.0635(0.1380) Grad: 0.5719  \n",
      "EVAL: [0/118] Data 3.959 (3.959) Elapsed 0m 4s (remain 8m 22s) Loss: 0.3981(0.3981) \n",
      "EVAL: [100/118] Data 0.000 (0.342) Elapsed 1m 2s (remain 0m 10s) Loss: 0.2567(0.2582) \n"
     ]
    },
    {
     "name": "stderr",
     "output_type": "stream",
     "text": [
      "Epoch 5 - avg_train_loss: 0.1380  avg_val_loss: 0.2580  time: 667s\n",
      "Epoch 5 - Score: 0.7755\n"
     ]
    },
    {
     "name": "stdout",
     "output_type": "stream",
     "text": [
      "EVAL: [117/118] Data 0.000 (0.334) Elapsed 1m 11s (remain 0m 0s) Loss: 0.1308(0.2580) \n",
      "Epoch: [6][0/703] Data 1.231 (1.231) Elapsed 0m 2s (remain 26m 36s) Loss: 0.1542(0.1542) Grad: 2.0303  \n",
      "Epoch: [6][100/703] Data 0.000 (0.012) Elapsed 1m 26s (remain 8m 37s) Loss: 0.0480(0.1061) Grad: 0.7472  \n",
      "Epoch: [6][200/703] Data 0.000 (0.006) Elapsed 2m 51s (remain 7m 7s) Loss: 0.0934(0.1063) Grad: 0.8306  \n",
      "Epoch: [6][300/703] Data 0.000 (0.004) Elapsed 4m 15s (remain 5m 41s) Loss: 0.0243(0.1033) Grad: 0.4459  \n",
      "Epoch: [6][400/703] Data 0.000 (0.003) Elapsed 5m 40s (remain 4m 16s) Loss: 0.1988(0.1053) Grad: 2.6306  \n",
      "Epoch: [6][500/703] Data 0.000 (0.003) Elapsed 7m 4s (remain 2m 51s) Loss: 0.0646(0.1046) Grad: 0.9292  \n",
      "Epoch: [6][600/703] Data 0.000 (0.002) Elapsed 8m 28s (remain 1m 26s) Loss: 0.0386(0.1026) Grad: 1.8142  \n",
      "Epoch: [6][700/703] Data 0.000 (0.002) Elapsed 9m 53s (remain 0m 1s) Loss: 0.0482(0.1035) Grad: 2.1701  \n",
      "Epoch: [6][702/703] Data 0.000 (0.002) Elapsed 9m 55s (remain 0m 0s) Loss: 0.1174(0.1035) Grad: 2.2962  \n",
      "EVAL: [0/118] Data 3.865 (3.865) Elapsed 0m 4s (remain 8m 7s) Loss: 0.4711(0.4711) \n",
      "EVAL: [100/118] Data 1.205 (0.343) Elapsed 1m 2s (remain 0m 10s) Loss: 0.3165(0.3072) \n"
     ]
    },
    {
     "name": "stderr",
     "output_type": "stream",
     "text": [
      "Epoch 6 - avg_train_loss: 0.1035  avg_val_loss: 0.3060  time: 666s\n",
      "Epoch 6 - Score: 0.7724\n"
     ]
    },
    {
     "name": "stdout",
     "output_type": "stream",
     "text": [
      "EVAL: [117/118] Data 0.000 (0.327) Elapsed 1m 10s (remain 0m 0s) Loss: 0.1136(0.3060) \n"
     ]
    },
    {
     "name": "stderr",
     "output_type": "stream",
     "text": [
      "========== fold: 0 result ==========\n",
      "Score: 0.7878\n",
      "========== fold: 1 training ==========\n"
     ]
    },
    {
     "name": "stdout",
     "output_type": "stream",
     "text": [
      "Epoch: [1][0/703] Data 1.184 (1.184) Elapsed 0m 2s (remain 25m 54s) Loss: 0.7156(0.7156) Grad: 3.6300  \n",
      "Epoch: [1][100/703] Data 0.000 (0.012) Elapsed 1m 25s (remain 8m 29s) Loss: 0.3738(0.3207) Grad: 0.4625  \n",
      "Epoch: [1][200/703] Data 0.000 (0.006) Elapsed 2m 49s (remain 7m 2s) Loss: 0.3183(0.2926) Grad: 0.9552  \n",
      "Epoch: [1][300/703] Data 0.000 (0.004) Elapsed 4m 13s (remain 5m 38s) Loss: 0.1863(0.2788) Grad: 0.9373  \n",
      "Epoch: [1][400/703] Data 0.000 (0.003) Elapsed 5m 38s (remain 4m 14s) Loss: 0.1801(0.2683) Grad: 0.7886  \n",
      "Epoch: [1][500/703] Data 0.000 (0.003) Elapsed 7m 2s (remain 2m 50s) Loss: 0.1856(0.2635) Grad: 0.5317  \n",
      "Epoch: [1][600/703] Data 0.000 (0.002) Elapsed 8m 27s (remain 1m 26s) Loss: 0.3551(0.2587) Grad: 1.9293  \n",
      "Epoch: [1][700/703] Data 0.000 (0.002) Elapsed 9m 51s (remain 0m 1s) Loss: 0.1393(0.2566) Grad: 0.5095  \n",
      "Epoch: [1][702/703] Data 0.000 (0.002) Elapsed 9m 53s (remain 0m 0s) Loss: 0.4040(0.2566) Grad: 1.0182  \n",
      "EVAL: [0/118] Data 3.747 (3.747) Elapsed 0m 4s (remain 7m 52s) Loss: 0.2071(0.2071) \n",
      "EVAL: [100/118] Data 0.743 (0.342) Elapsed 1m 2s (remain 0m 10s) Loss: 0.2575(0.2343) \n"
     ]
    },
    {
     "name": "stderr",
     "output_type": "stream",
     "text": [
      "Epoch 1 - avg_train_loss: 0.2566  avg_val_loss: 0.2357  time: 664s\n",
      "Epoch 1 - Score: 0.7688\n",
      "Epoch 1 - Save Best Score: 0.7688 Model\n"
     ]
    },
    {
     "name": "stdout",
     "output_type": "stream",
     "text": [
      "EVAL: [117/118] Data 0.000 (0.328) Elapsed 1m 10s (remain 0m 0s) Loss: 0.1956(0.2357) \n"
     ]
    },
    {
     "name": "stderr",
     "output_type": "stream",
     "text": [
      "Epoch 1 - Save Best Loss: 0.2357 Model\n"
     ]
    },
    {
     "name": "stdout",
     "output_type": "stream",
     "text": [
      "Epoch: [2][0/703] Data 1.388 (1.388) Elapsed 0m 2s (remain 26m 29s) Loss: 0.2053(0.2053) Grad: 0.6961  \n",
      "Epoch: [2][100/703] Data 0.000 (0.014) Elapsed 1m 26s (remain 8m 37s) Loss: 0.1349(0.2243) Grad: 0.4528  \n",
      "Epoch: [2][200/703] Data 0.000 (0.007) Elapsed 2m 51s (remain 7m 7s) Loss: 0.2806(0.2261) Grad: 0.6204  \n",
      "Epoch: [2][300/703] Data 0.000 (0.005) Elapsed 4m 15s (remain 5m 41s) Loss: 0.2749(0.2227) Grad: 0.7875  \n",
      "Epoch: [2][400/703] Data 0.000 (0.004) Elapsed 5m 40s (remain 4m 16s) Loss: 0.1728(0.2209) Grad: 0.9715  \n",
      "Epoch: [2][500/703] Data 0.000 (0.003) Elapsed 7m 4s (remain 2m 51s) Loss: 0.2555(0.2238) Grad: 0.9712  \n",
      "Epoch: [2][600/703] Data 0.000 (0.003) Elapsed 8m 28s (remain 1m 26s) Loss: 0.1547(0.2214) Grad: 0.8242  \n",
      "Epoch: [2][700/703] Data 0.000 (0.002) Elapsed 9m 53s (remain 0m 1s) Loss: 0.1220(0.2204) Grad: 0.4807  \n",
      "Epoch: [2][702/703] Data 0.000 (0.002) Elapsed 9m 55s (remain 0m 0s) Loss: 0.1803(0.2204) Grad: 0.9748  \n",
      "EVAL: [0/118] Data 3.709 (3.709) Elapsed 0m 4s (remain 7m 48s) Loss: 0.2028(0.2028) \n",
      "EVAL: [100/118] Data 0.284 (0.330) Elapsed 1m 0s (remain 0m 10s) Loss: 0.2767(0.2344) \n"
     ]
    },
    {
     "name": "stderr",
     "output_type": "stream",
     "text": [
      "Epoch 2 - avg_train_loss: 0.2204  avg_val_loss: 0.2342  time: 665s\n",
      "Epoch 2 - Score: 0.7777\n",
      "Epoch 2 - Save Best Score: 0.7777 Model\n"
     ]
    },
    {
     "name": "stdout",
     "output_type": "stream",
     "text": [
      "EVAL: [117/118] Data 0.000 (0.318) Elapsed 1m 9s (remain 0m 0s) Loss: 0.2175(0.2342) \n"
     ]
    },
    {
     "name": "stderr",
     "output_type": "stream",
     "text": [
      "Epoch 2 - Save Best Loss: 0.2342 Model\n"
     ]
    },
    {
     "name": "stdout",
     "output_type": "stream",
     "text": [
      "Epoch: [3][0/703] Data 1.211 (1.211) Elapsed 0m 2s (remain 25m 5s) Loss: 0.2514(0.2514) Grad: 0.6714  \n",
      "Epoch: [3][100/703] Data 0.000 (0.012) Elapsed 1m 26s (remain 8m 37s) Loss: 0.1790(0.2069) Grad: 0.2097  \n",
      "Epoch: [3][200/703] Data 0.000 (0.006) Elapsed 2m 51s (remain 7m 7s) Loss: 0.2713(0.2075) Grad: 1.2888  \n",
      "Epoch: [3][300/703] Data 0.000 (0.004) Elapsed 4m 15s (remain 5m 41s) Loss: 0.2212(0.2106) Grad: 0.5569  \n",
      "Epoch: [3][400/703] Data 0.000 (0.003) Elapsed 5m 40s (remain 4m 16s) Loss: 0.2691(0.2055) Grad: 0.5980  \n",
      "Epoch: [3][500/703] Data 0.000 (0.003) Elapsed 7m 5s (remain 2m 51s) Loss: 0.1878(0.2038) Grad: 0.4131  \n",
      "Epoch: [3][600/703] Data 0.000 (0.002) Elapsed 8m 30s (remain 1m 26s) Loss: 0.0547(0.2037) Grad: 0.7434  \n",
      "Epoch: [3][700/703] Data 0.000 (0.002) Elapsed 9m 55s (remain 0m 1s) Loss: 0.2905(0.2029) Grad: 0.7888  \n",
      "Epoch: [3][702/703] Data 0.000 (0.002) Elapsed 9m 56s (remain 0m 0s) Loss: 0.0966(0.2028) Grad: 0.8645  \n",
      "EVAL: [0/118] Data 3.874 (3.874) Elapsed 0m 4s (remain 8m 9s) Loss: 0.1779(0.1779) \n",
      "EVAL: [100/118] Data 0.000 (0.334) Elapsed 1m 1s (remain 0m 10s) Loss: 0.2734(0.2274) \n"
     ]
    },
    {
     "name": "stderr",
     "output_type": "stream",
     "text": [
      "Epoch 3 - avg_train_loss: 0.2028  avg_val_loss: 0.2282  time: 668s\n",
      "Epoch 3 - Score: 0.7844\n",
      "Epoch 3 - Save Best Score: 0.7844 Model\n"
     ]
    },
    {
     "name": "stdout",
     "output_type": "stream",
     "text": [
      "EVAL: [117/118] Data 0.000 (0.323) Elapsed 1m 10s (remain 0m 0s) Loss: 0.1977(0.2282) \n"
     ]
    },
    {
     "name": "stderr",
     "output_type": "stream",
     "text": [
      "Epoch 3 - Save Best Loss: 0.2282 Model\n"
     ]
    },
    {
     "name": "stdout",
     "output_type": "stream",
     "text": [
      "Epoch: [4][0/703] Data 1.316 (1.316) Elapsed 0m 2s (remain 25m 56s) Loss: 0.1159(0.1159) Grad: 1.2496  \n",
      "Epoch: [4][100/703] Data 0.000 (0.013) Elapsed 1m 27s (remain 8m 40s) Loss: 0.1733(0.1775) Grad: 0.2770  \n",
      "Epoch: [4][200/703] Data 0.000 (0.007) Elapsed 2m 52s (remain 7m 11s) Loss: 0.1886(0.1819) Grad: 1.2103  \n",
      "Epoch: [4][300/703] Data 0.000 (0.005) Elapsed 4m 17s (remain 5m 43s) Loss: 0.3209(0.1802) Grad: 1.0036  \n",
      "Epoch: [4][400/703] Data 0.000 (0.004) Elapsed 5m 42s (remain 4m 17s) Loss: 0.0720(0.1832) Grad: 1.6175  \n",
      "Epoch: [4][500/703] Data 0.000 (0.003) Elapsed 7m 6s (remain 2m 52s) Loss: 0.2506(0.1813) Grad: 1.4430  \n",
      "Epoch: [4][600/703] Data 0.000 (0.002) Elapsed 8m 31s (remain 1m 26s) Loss: 0.1144(0.1790) Grad: 0.7077  \n",
      "Epoch: [4][700/703] Data 0.000 (0.002) Elapsed 9m 56s (remain 0m 1s) Loss: 0.0646(0.1781) Grad: 1.3134  \n",
      "Epoch: [4][702/703] Data 0.000 (0.002) Elapsed 9m 58s (remain 0m 0s) Loss: 0.2230(0.1780) Grad: 0.9919  \n",
      "EVAL: [0/118] Data 3.281 (3.281) Elapsed 0m 3s (remain 6m 57s) Loss: 0.2000(0.2000) \n",
      "EVAL: [100/118] Data 0.064 (0.327) Elapsed 1m 0s (remain 0m 10s) Loss: 0.2709(0.2333) \n"
     ]
    },
    {
     "name": "stderr",
     "output_type": "stream",
     "text": [
      "Epoch 4 - avg_train_loss: 0.1780  avg_val_loss: 0.2349  time: 669s\n",
      "Epoch 4 - Score: 0.7811\n"
     ]
    },
    {
     "name": "stdout",
     "output_type": "stream",
     "text": [
      "EVAL: [117/118] Data 0.000 (0.316) Elapsed 1m 10s (remain 0m 0s) Loss: 0.2414(0.2349) \n",
      "Epoch: [5][0/703] Data 1.266 (1.266) Elapsed 0m 2s (remain 26m 23s) Loss: 0.0487(0.0487) Grad: 0.5755  \n",
      "Epoch: [5][100/703] Data 0.000 (0.013) Elapsed 1m 27s (remain 8m 39s) Loss: 0.1188(0.1418) Grad: 0.6398  \n",
      "Epoch: [5][200/703] Data 0.000 (0.007) Elapsed 2m 52s (remain 7m 10s) Loss: 0.1377(0.1407) Grad: 1.2297  \n",
      "Epoch: [5][300/703] Data 0.000 (0.004) Elapsed 4m 17s (remain 5m 43s) Loss: 0.2765(0.1396) Grad: 1.2816  \n",
      "Epoch: [5][400/703] Data 0.000 (0.003) Elapsed 5m 42s (remain 4m 17s) Loss: 0.1479(0.1413) Grad: 1.1111  \n",
      "Epoch: [5][500/703] Data 0.000 (0.003) Elapsed 7m 7s (remain 2m 52s) Loss: 0.0986(0.1417) Grad: 0.9800  \n",
      "Epoch: [5][600/703] Data 0.000 (0.002) Elapsed 8m 32s (remain 1m 26s) Loss: 0.1568(0.1399) Grad: 1.4473  \n",
      "Epoch: [5][700/703] Data 0.000 (0.002) Elapsed 9m 57s (remain 0m 1s) Loss: 0.0704(0.1408) Grad: 2.3863  \n",
      "Epoch: [5][702/703] Data 0.000 (0.002) Elapsed 9m 58s (remain 0m 0s) Loss: 0.0964(0.1407) Grad: 3.0888  \n",
      "EVAL: [0/118] Data 4.187 (4.187) Elapsed 0m 4s (remain 8m 43s) Loss: 0.2365(0.2365) \n",
      "EVAL: [100/118] Data 1.188 (0.359) Elapsed 1m 4s (remain 0m 10s) Loss: 0.2927(0.2757) \n"
     ]
    },
    {
     "name": "stderr",
     "output_type": "stream",
     "text": [
      "Epoch 5 - avg_train_loss: 0.1407  avg_val_loss: 0.2769  time: 671s\n",
      "Epoch 5 - Score: 0.7748\n"
     ]
    },
    {
     "name": "stdout",
     "output_type": "stream",
     "text": [
      "EVAL: [117/118] Data 0.000 (0.341) Elapsed 1m 12s (remain 0m 0s) Loss: 0.2849(0.2769) \n",
      "Epoch: [6][0/703] Data 1.383 (1.383) Elapsed 0m 2s (remain 26m 40s) Loss: 0.2790(0.2790) Grad: 1.8666  \n",
      "Epoch: [6][100/703] Data 0.000 (0.014) Elapsed 1m 27s (remain 8m 39s) Loss: 0.0683(0.1090) Grad: 1.1260  \n",
      "Epoch: [6][200/703] Data 0.000 (0.007) Elapsed 2m 51s (remain 7m 9s) Loss: 0.0827(0.0992) Grad: 1.1000  \n",
      "Epoch: [6][300/703] Data 0.000 (0.005) Elapsed 4m 16s (remain 5m 42s) Loss: 0.0463(0.0944) Grad: 1.5612  \n",
      "Epoch: [6][400/703] Data 0.000 (0.004) Elapsed 5m 40s (remain 4m 16s) Loss: 0.0691(0.0942) Grad: 1.1611  \n",
      "Epoch: [6][500/703] Data 0.000 (0.003) Elapsed 7m 5s (remain 2m 51s) Loss: 0.0946(0.0922) Grad: 1.9390  \n",
      "Epoch: [6][600/703] Data 0.000 (0.003) Elapsed 8m 29s (remain 1m 26s) Loss: 0.0514(0.0909) Grad: 1.6874  \n",
      "Epoch: [6][700/703] Data 0.000 (0.002) Elapsed 9m 54s (remain 0m 1s) Loss: 0.1373(0.0891) Grad: 2.8921  \n",
      "Epoch: [6][702/703] Data 0.000 (0.002) Elapsed 9m 56s (remain 0m 0s) Loss: 0.1319(0.0891) Grad: 2.7472  \n",
      "EVAL: [0/118] Data 3.895 (3.895) Elapsed 0m 4s (remain 8m 11s) Loss: 0.2762(0.2762) \n",
      "EVAL: [100/118] Data 1.181 (0.346) Elapsed 1m 2s (remain 0m 10s) Loss: 0.3910(0.3422) \n"
     ]
    },
    {
     "name": "stderr",
     "output_type": "stream",
     "text": [
      "Epoch 6 - avg_train_loss: 0.0891  avg_val_loss: 0.3443  time: 667s\n",
      "Epoch 6 - Score: 0.7525\n"
     ]
    },
    {
     "name": "stdout",
     "output_type": "stream",
     "text": [
      "EVAL: [117/118] Data 0.000 (0.333) Elapsed 1m 11s (remain 0m 0s) Loss: 0.3647(0.3443) \n"
     ]
    },
    {
     "name": "stderr",
     "output_type": "stream",
     "text": [
      "========== fold: 1 result ==========\n",
      "Score: 0.7844\n",
      "========== fold: 2 training ==========\n"
     ]
    },
    {
     "name": "stdout",
     "output_type": "stream",
     "text": [
      "Epoch: [1][0/703] Data 1.089 (1.089) Elapsed 0m 1s (remain 23m 15s) Loss: 0.6689(0.6689) Grad: 2.5953  \n",
      "Epoch: [1][100/703] Data 0.000 (0.011) Elapsed 1m 25s (remain 8m 28s) Loss: 0.2378(0.2722) Grad: 1.5321  \n",
      "Epoch: [1][200/703] Data 0.000 (0.006) Elapsed 2m 49s (remain 7m 3s) Loss: 0.0559(0.2642) Grad: 0.8804  \n",
      "Epoch: [1][300/703] Data 0.000 (0.004) Elapsed 4m 13s (remain 5m 39s) Loss: 0.2554(0.2640) Grad: 1.1519  \n",
      "Epoch: [1][400/703] Data 0.000 (0.003) Elapsed 5m 38s (remain 4m 14s) Loss: 0.2812(0.2606) Grad: 0.8082  \n",
      "Epoch: [1][500/703] Data 0.000 (0.002) Elapsed 7m 2s (remain 2m 50s) Loss: 0.3526(0.2554) Grad: 0.8210  \n",
      "Epoch: [1][600/703] Data 0.000 (0.002) Elapsed 8m 27s (remain 1m 26s) Loss: 0.2538(0.2504) Grad: 0.8123  \n",
      "Epoch: [1][700/703] Data 0.000 (0.002) Elapsed 9m 51s (remain 0m 1s) Loss: 0.2358(0.2501) Grad: 0.2855  \n",
      "Epoch: [1][702/703] Data 0.000 (0.002) Elapsed 9m 53s (remain 0m 0s) Loss: 0.2876(0.2501) Grad: 0.9104  \n",
      "EVAL: [0/118] Data 3.762 (3.762) Elapsed 0m 4s (remain 7m 53s) Loss: 0.1985(0.1985) \n",
      "EVAL: [100/118] Data 1.126 (0.348) Elapsed 1m 2s (remain 0m 10s) Loss: 0.2579(0.2344) \n"
     ]
    },
    {
     "name": "stderr",
     "output_type": "stream",
     "text": [
      "Epoch 1 - avg_train_loss: 0.2501  avg_val_loss: 0.2369  time: 665s\n",
      "Epoch 1 - Score: 0.7714\n",
      "Epoch 1 - Save Best Score: 0.7714 Model\n"
     ]
    },
    {
     "name": "stdout",
     "output_type": "stream",
     "text": [
      "EVAL: [117/118] Data 0.000 (0.338) Elapsed 1m 11s (remain 0m 0s) Loss: 0.0615(0.2369) \n"
     ]
    },
    {
     "name": "stderr",
     "output_type": "stream",
     "text": [
      "Epoch 1 - Save Best Loss: 0.2369 Model\n"
     ]
    },
    {
     "name": "stdout",
     "output_type": "stream",
     "text": [
      "Epoch: [2][0/703] Data 1.413 (1.413) Elapsed 0m 2s (remain 27m 50s) Loss: 0.2859(0.2859) Grad: 0.7762  \n",
      "Epoch: [2][100/703] Data 0.000 (0.014) Elapsed 1m 27s (remain 8m 39s) Loss: 0.2574(0.2199) Grad: 0.9363  \n",
      "Epoch: [2][200/703] Data 0.000 (0.007) Elapsed 2m 51s (remain 7m 9s) Loss: 0.2066(0.2236) Grad: 0.8687  \n",
      "Epoch: [2][300/703] Data 0.000 (0.005) Elapsed 4m 16s (remain 5m 42s) Loss: 0.1159(0.2174) Grad: 0.7315  \n",
      "Epoch: [2][400/703] Data 0.000 (0.004) Elapsed 5m 40s (remain 4m 16s) Loss: 0.2224(0.2208) Grad: 1.2061  \n",
      "Epoch: [2][500/703] Data 0.000 (0.003) Elapsed 7m 5s (remain 2m 51s) Loss: 0.1880(0.2184) Grad: 0.3838  \n",
      "Epoch: [2][600/703] Data 0.000 (0.003) Elapsed 8m 29s (remain 1m 26s) Loss: 0.0900(0.2197) Grad: 1.1405  \n",
      "Epoch: [2][700/703] Data 0.000 (0.002) Elapsed 9m 54s (remain 0m 1s) Loss: 0.2115(0.2202) Grad: 1.3703  \n",
      "Epoch: [2][702/703] Data 0.000 (0.002) Elapsed 9m 55s (remain 0m 0s) Loss: 0.1066(0.2202) Grad: 0.7352  \n",
      "EVAL: [0/118] Data 3.719 (3.719) Elapsed 0m 4s (remain 7m 49s) Loss: 0.1982(0.1982) \n",
      "EVAL: [100/118] Data 1.146 (0.344) Elapsed 1m 2s (remain 0m 10s) Loss: 0.2778(0.2262) \n"
     ]
    },
    {
     "name": "stderr",
     "output_type": "stream",
     "text": [
      "Epoch 2 - avg_train_loss: 0.2202  avg_val_loss: 0.2279  time: 667s\n",
      "Epoch 2 - Score: 0.7857\n",
      "Epoch 2 - Save Best Score: 0.7857 Model\n"
     ]
    },
    {
     "name": "stdout",
     "output_type": "stream",
     "text": [
      "EVAL: [117/118] Data 0.000 (0.328) Elapsed 1m 10s (remain 0m 0s) Loss: 0.0696(0.2279) \n"
     ]
    },
    {
     "name": "stderr",
     "output_type": "stream",
     "text": [
      "Epoch 2 - Save Best Loss: 0.2279 Model\n"
     ]
    },
    {
     "name": "stdout",
     "output_type": "stream",
     "text": [
      "Epoch: [3][0/703] Data 1.315 (1.315) Elapsed 0m 2s (remain 25m 27s) Loss: 0.1781(0.1781) Grad: 0.3158  \n",
      "Epoch: [3][100/703] Data 0.000 (0.013) Elapsed 1m 27s (remain 8m 39s) Loss: 0.2469(0.1928) Grad: 0.9225  \n",
      "Epoch: [3][200/703] Data 0.000 (0.007) Elapsed 2m 52s (remain 7m 10s) Loss: 0.2859(0.1934) Grad: 0.6332  \n",
      "Epoch: [3][300/703] Data 0.000 (0.005) Elapsed 4m 17s (remain 5m 43s) Loss: 0.0492(0.1931) Grad: 0.5233  \n",
      "Epoch: [3][400/703] Data 0.000 (0.003) Elapsed 5m 41s (remain 4m 17s) Loss: 0.2179(0.1957) Grad: 0.6942  \n",
      "Epoch: [3][500/703] Data 0.000 (0.003) Elapsed 7m 6s (remain 2m 51s) Loss: 0.2270(0.1986) Grad: 1.3152  \n",
      "Epoch: [3][600/703] Data 0.000 (0.002) Elapsed 8m 31s (remain 1m 26s) Loss: 0.1734(0.1995) Grad: 0.9596  \n",
      "Epoch: [3][700/703] Data 0.000 (0.002) Elapsed 9m 55s (remain 0m 1s) Loss: 0.2604(0.2006) Grad: 1.2520  \n",
      "Epoch: [3][702/703] Data 0.000 (0.002) Elapsed 9m 57s (remain 0m 0s) Loss: 0.2957(0.2007) Grad: 0.4784  \n",
      "EVAL: [0/118] Data 3.992 (3.992) Elapsed 0m 4s (remain 8m 38s) Loss: 0.1906(0.1906) \n",
      "EVAL: [100/118] Data 1.174 (0.341) Elapsed 1m 2s (remain 0m 10s) Loss: 0.2412(0.2219) \n"
     ]
    },
    {
     "name": "stderr",
     "output_type": "stream",
     "text": [
      "Epoch 3 - avg_train_loss: 0.2007  avg_val_loss: 0.2238  time: 668s\n",
      "Epoch 3 - Score: 0.7880\n",
      "Epoch 3 - Save Best Score: 0.7880 Model\n"
     ]
    },
    {
     "name": "stdout",
     "output_type": "stream",
     "text": [
      "EVAL: [117/118] Data 0.000 (0.326) Elapsed 1m 10s (remain 0m 0s) Loss: 0.0621(0.2238) \n"
     ]
    },
    {
     "name": "stderr",
     "output_type": "stream",
     "text": [
      "Epoch 3 - Save Best Loss: 0.2238 Model\n"
     ]
    },
    {
     "name": "stdout",
     "output_type": "stream",
     "text": [
      "Epoch: [4][0/703] Data 1.252 (1.252) Elapsed 0m 2s (remain 25m 59s) Loss: 0.1294(0.1294) Grad: 0.5543  \n",
      "Epoch: [4][100/703] Data 0.000 (0.013) Elapsed 1m 26s (remain 8m 37s) Loss: 0.1545(0.1750) Grad: 0.2257  \n",
      "Epoch: [4][200/703] Data 0.000 (0.006) Elapsed 2m 51s (remain 7m 8s) Loss: 0.1401(0.1737) Grad: 1.0509  \n",
      "Epoch: [4][300/703] Data 0.000 (0.004) Elapsed 4m 15s (remain 5m 41s) Loss: 0.1511(0.1757) Grad: 2.6054  \n",
      "Epoch: [4][400/703] Data 0.000 (0.003) Elapsed 5m 40s (remain 4m 16s) Loss: 0.3283(0.1755) Grad: 4.5166  \n",
      "Epoch: [4][500/703] Data 0.000 (0.003) Elapsed 7m 4s (remain 2m 51s) Loss: 0.2637(0.1742) Grad: 0.7668  \n",
      "Epoch: [4][600/703] Data 0.000 (0.002) Elapsed 8m 29s (remain 1m 26s) Loss: 0.2036(0.1740) Grad: 1.2712  \n",
      "Epoch: [4][700/703] Data 0.000 (0.002) Elapsed 9m 53s (remain 0m 1s) Loss: 0.1784(0.1743) Grad: 1.1682  \n",
      "Epoch: [4][702/703] Data 0.000 (0.002) Elapsed 9m 55s (remain 0m 0s) Loss: 0.1784(0.1743) Grad: 0.5530  \n",
      "EVAL: [0/118] Data 3.613 (3.613) Elapsed 0m 3s (remain 7m 37s) Loss: 0.1861(0.1861) \n",
      "EVAL: [100/118] Data 0.221 (0.320) Elapsed 1m 0s (remain 0m 10s) Loss: 0.2491(0.2284) \n"
     ]
    },
    {
     "name": "stderr",
     "output_type": "stream",
     "text": [
      "Epoch 4 - avg_train_loss: 0.1743  avg_val_loss: 0.2307  time: 665s\n",
      "Epoch 4 - Score: 0.7861\n"
     ]
    },
    {
     "name": "stdout",
     "output_type": "stream",
     "text": [
      "EVAL: [117/118] Data 0.000 (0.311) Elapsed 1m 8s (remain 0m 0s) Loss: 0.0485(0.2307) \n",
      "Epoch: [5][0/703] Data 1.278 (1.278) Elapsed 0m 2s (remain 25m 46s) Loss: 0.2104(0.2104) Grad: 0.9022  \n",
      "Epoch: [5][100/703] Data 0.000 (0.013) Elapsed 1m 26s (remain 8m 36s) Loss: 0.1358(0.1334) Grad: 0.5794  \n",
      "Epoch: [5][200/703] Data 0.000 (0.007) Elapsed 2m 51s (remain 7m 7s) Loss: 0.1550(0.1383) Grad: 2.9880  \n",
      "Epoch: [5][300/703] Data 0.000 (0.004) Elapsed 4m 15s (remain 5m 41s) Loss: 0.1750(0.1403) Grad: 0.8792  \n",
      "Epoch: [5][400/703] Data 0.000 (0.003) Elapsed 5m 40s (remain 4m 16s) Loss: 0.1760(0.1406) Grad: 2.4888  \n",
      "Epoch: [5][500/703] Data 0.000 (0.003) Elapsed 7m 4s (remain 2m 51s) Loss: 0.1138(0.1426) Grad: 2.3081  \n",
      "Epoch: [5][600/703] Data 0.000 (0.002) Elapsed 8m 29s (remain 1m 26s) Loss: 0.1551(0.1411) Grad: 1.9614  \n",
      "Epoch: [5][700/703] Data 0.000 (0.002) Elapsed 9m 54s (remain 0m 1s) Loss: 0.1706(0.1424) Grad: 0.7132  \n",
      "Epoch: [5][702/703] Data 0.000 (0.002) Elapsed 9m 56s (remain 0m 0s) Loss: 0.1378(0.1426) Grad: 0.6187  \n",
      "EVAL: [0/118] Data 3.963 (3.963) Elapsed 0m 4s (remain 8m 18s) Loss: 0.1909(0.1909) \n",
      "EVAL: [100/118] Data 0.288 (0.328) Elapsed 1m 1s (remain 0m 10s) Loss: 0.3576(0.2787) \n"
     ]
    },
    {
     "name": "stderr",
     "output_type": "stream",
     "text": [
      "Epoch 5 - avg_train_loss: 0.1426  avg_val_loss: 0.2809  time: 667s\n",
      "Epoch 5 - Score: 0.7756\n"
     ]
    },
    {
     "name": "stdout",
     "output_type": "stream",
     "text": [
      "EVAL: [117/118] Data 0.000 (0.320) Elapsed 1m 10s (remain 0m 0s) Loss: 0.0452(0.2809) \n",
      "Epoch: [6][0/703] Data 1.344 (1.344) Elapsed 0m 2s (remain 25m 50s) Loss: 0.1024(0.1024) Grad: 0.6548  \n",
      "Epoch: [6][100/703] Data 0.000 (0.014) Elapsed 1m 27s (remain 8m 40s) Loss: 0.1116(0.1253) Grad: 0.9992  \n",
      "Epoch: [6][200/703] Data 0.000 (0.007) Elapsed 2m 52s (remain 7m 9s) Loss: 0.0695(0.1170) Grad: 0.4689  \n",
      "Epoch: [6][300/703] Data 0.000 (0.005) Elapsed 4m 16s (remain 5m 42s) Loss: 0.1479(0.1142) Grad: 1.0143  \n",
      "Epoch: [6][400/703] Data 0.000 (0.004) Elapsed 5m 41s (remain 4m 17s) Loss: 0.0790(0.1155) Grad: 1.1804  \n",
      "Epoch: [6][500/703] Data 0.000 (0.003) Elapsed 7m 5s (remain 2m 51s) Loss: 0.0604(0.1130) Grad: 0.7429  \n",
      "Epoch: [6][600/703] Data 0.000 (0.002) Elapsed 8m 30s (remain 1m 26s) Loss: 0.0482(0.1122) Grad: 2.0545  \n",
      "Epoch: [6][700/703] Data 0.000 (0.002) Elapsed 9m 55s (remain 0m 1s) Loss: 0.0493(0.1110) Grad: 2.0024  \n",
      "Epoch: [6][702/703] Data 0.000 (0.002) Elapsed 9m 57s (remain 0m 0s) Loss: 0.1235(0.1110) Grad: 2.6666  \n",
      "EVAL: [0/118] Data 2.534 (2.534) Elapsed 0m 2s (remain 5m 28s) Loss: 0.1717(0.1717) \n",
      "EVAL: [100/118] Data 0.940 (0.363) Elapsed 1m 4s (remain 0m 10s) Loss: 0.3764(0.3296) \n"
     ]
    },
    {
     "name": "stderr",
     "output_type": "stream",
     "text": [
      "Epoch 6 - avg_train_loss: 0.1110  avg_val_loss: 0.3327  time: 670s\n",
      "Epoch 6 - Score: 0.7633\n"
     ]
    },
    {
     "name": "stdout",
     "output_type": "stream",
     "text": [
      "EVAL: [117/118] Data 0.000 (0.345) Elapsed 1m 12s (remain 0m 0s) Loss: 0.0345(0.3327) \n"
     ]
    },
    {
     "name": "stderr",
     "output_type": "stream",
     "text": [
      "========== fold: 2 result ==========\n",
      "Score: 0.7880\n",
      "========== fold: 3 training ==========\n"
     ]
    },
    {
     "name": "stdout",
     "output_type": "stream",
     "text": [
      "Epoch: [1][0/703] Data 1.031 (1.031) Elapsed 0m 2s (remain 24m 18s) Loss: 0.6801(0.6801) Grad: 3.5592  \n",
      "Epoch: [1][100/703] Data 0.000 (0.010) Elapsed 1m 25s (remain 8m 32s) Loss: 0.4181(0.3118) Grad: 0.9375  \n",
      "Epoch: [1][200/703] Data 0.000 (0.005) Elapsed 2m 49s (remain 7m 4s) Loss: 0.2936(0.2896) Grad: 1.3456  \n",
      "Epoch: [1][300/703] Data 0.000 (0.004) Elapsed 4m 14s (remain 5m 40s) Loss: 0.2615(0.2766) Grad: 0.8172  \n",
      "Epoch: [1][400/703] Data 0.000 (0.003) Elapsed 5m 39s (remain 4m 15s) Loss: 0.2685(0.2703) Grad: 0.2999  \n",
      "Epoch: [1][500/703] Data 0.000 (0.002) Elapsed 7m 4s (remain 2m 51s) Loss: 0.2655(0.2631) Grad: 0.7606  \n",
      "Epoch: [1][600/703] Data 0.000 (0.002) Elapsed 8m 29s (remain 1m 26s) Loss: 0.2617(0.2590) Grad: 0.3332  \n",
      "Epoch: [1][700/703] Data 0.000 (0.002) Elapsed 9m 53s (remain 0m 1s) Loss: 0.2972(0.2564) Grad: 0.3280  \n",
      "Epoch: [1][702/703] Data 0.000 (0.002) Elapsed 9m 55s (remain 0m 0s) Loss: 0.1644(0.2562) Grad: 1.0610  \n",
      "EVAL: [0/118] Data 2.833 (2.833) Elapsed 0m 3s (remain 6m 5s) Loss: 0.2632(0.2632) \n",
      "EVAL: [100/118] Data 1.276 (0.338) Elapsed 1m 1s (remain 0m 10s) Loss: 0.1957(0.2333) \n"
     ]
    },
    {
     "name": "stderr",
     "output_type": "stream",
     "text": [
      "Epoch 1 - avg_train_loss: 0.2562  avg_val_loss: 0.2346  time: 665s\n",
      "Epoch 1 - Score: 0.7797\n",
      "Epoch 1 - Save Best Score: 0.7797 Model\n"
     ]
    },
    {
     "name": "stdout",
     "output_type": "stream",
     "text": [
      "EVAL: [117/118] Data 0.000 (0.322) Elapsed 1m 9s (remain 0m 0s) Loss: 0.2645(0.2346) \n"
     ]
    },
    {
     "name": "stderr",
     "output_type": "stream",
     "text": [
      "Epoch 1 - Save Best Loss: 0.2346 Model\n"
     ]
    },
    {
     "name": "stdout",
     "output_type": "stream",
     "text": [
      "Epoch: [2][0/703] Data 1.679 (1.679) Elapsed 0m 2s (remain 31m 54s) Loss: 0.2103(0.2103) Grad: 0.5481  \n",
      "Epoch: [2][100/703] Data 0.000 (0.017) Elapsed 1m 27s (remain 8m 40s) Loss: 0.1913(0.2257) Grad: 1.0490  \n",
      "Epoch: [2][200/703] Data 0.000 (0.009) Elapsed 2m 51s (remain 7m 9s) Loss: 0.3145(0.2290) Grad: 2.2349  \n",
      "Epoch: [2][300/703] Data 0.000 (0.006) Elapsed 4m 16s (remain 5m 42s) Loss: 0.2479(0.2285) Grad: 1.3188  \n",
      "Epoch: [2][400/703] Data 0.000 (0.004) Elapsed 5m 40s (remain 4m 16s) Loss: 0.2017(0.2252) Grad: 0.9122  \n",
      "Epoch: [2][500/703] Data 0.000 (0.004) Elapsed 7m 5s (remain 2m 51s) Loss: 0.1433(0.2210) Grad: 0.8170  \n",
      "Epoch: [2][600/703] Data 0.000 (0.003) Elapsed 8m 30s (remain 1m 26s) Loss: 0.1679(0.2216) Grad: 0.9455  \n",
      "Epoch: [2][700/703] Data 0.000 (0.003) Elapsed 9m 54s (remain 0m 1s) Loss: 0.2500(0.2216) Grad: 0.8221  \n",
      "Epoch: [2][702/703] Data 0.000 (0.003) Elapsed 9m 55s (remain 0m 0s) Loss: 0.1653(0.2218) Grad: 0.7993  \n",
      "EVAL: [0/118] Data 3.979 (3.979) Elapsed 0m 4s (remain 8m 20s) Loss: 0.2826(0.2826) \n",
      "EVAL: [100/118] Data 1.178 (0.340) Elapsed 1m 1s (remain 0m 10s) Loss: 0.1786(0.2207) \n"
     ]
    },
    {
     "name": "stderr",
     "output_type": "stream",
     "text": [
      "Epoch 2 - avg_train_loss: 0.2218  avg_val_loss: 0.2216  time: 667s\n",
      "Epoch 2 - Score: 0.7916\n",
      "Epoch 2 - Save Best Score: 0.7916 Model\n"
     ]
    },
    {
     "name": "stdout",
     "output_type": "stream",
     "text": [
      "EVAL: [117/118] Data 0.000 (0.325) Elapsed 1m 11s (remain 0m 0s) Loss: 0.2310(0.2216) \n"
     ]
    },
    {
     "name": "stderr",
     "output_type": "stream",
     "text": [
      "Epoch 2 - Save Best Loss: 0.2216 Model\n"
     ]
    },
    {
     "name": "stdout",
     "output_type": "stream",
     "text": [
      "Epoch: [3][0/703] Data 1.594 (1.594) Elapsed 0m 2s (remain 30m 44s) Loss: 0.1827(0.1827) Grad: 0.4456  \n",
      "Epoch: [3][100/703] Data 0.000 (0.016) Elapsed 1m 26s (remain 8m 38s) Loss: 0.0622(0.1955) Grad: 1.6078  \n",
      "Epoch: [3][200/703] Data 0.000 (0.008) Elapsed 2m 51s (remain 7m 7s) Loss: 0.2521(0.1944) Grad: 1.0901  \n",
      "Epoch: [3][300/703] Data 0.000 (0.005) Elapsed 4m 14s (remain 5m 40s) Loss: 0.2767(0.1978) Grad: 1.3406  \n",
      "Epoch: [3][400/703] Data 0.000 (0.004) Elapsed 5m 39s (remain 4m 15s) Loss: 0.2251(0.1969) Grad: 1.1353  \n",
      "Epoch: [3][500/703] Data 0.000 (0.003) Elapsed 7m 3s (remain 2m 50s) Loss: 0.1328(0.1980) Grad: 0.2139  \n",
      "Epoch: [3][600/703] Data 0.000 (0.003) Elapsed 8m 28s (remain 1m 26s) Loss: 0.3303(0.1991) Grad: 1.8297  \n",
      "Epoch: [3][700/703] Data 0.000 (0.002) Elapsed 9m 52s (remain 0m 1s) Loss: 0.2353(0.1985) Grad: 0.9278  \n",
      "Epoch: [3][702/703] Data 0.000 (0.002) Elapsed 9m 54s (remain 0m 0s) Loss: 0.1334(0.1984) Grad: 0.7983  \n",
      "EVAL: [0/118] Data 3.863 (3.863) Elapsed 0m 4s (remain 8m 21s) Loss: 0.3541(0.3541) \n",
      "EVAL: [100/118] Data 1.144 (0.356) Elapsed 1m 3s (remain 0m 10s) Loss: 0.1627(0.2265) \n"
     ]
    },
    {
     "name": "stderr",
     "output_type": "stream",
     "text": [
      "Epoch 3 - avg_train_loss: 0.1984  avg_val_loss: 0.2286  time: 667s\n",
      "Epoch 3 - Score: 0.7880\n"
     ]
    },
    {
     "name": "stdout",
     "output_type": "stream",
     "text": [
      "EVAL: [117/118] Data 0.000 (0.344) Elapsed 1m 12s (remain 0m 0s) Loss: 0.2521(0.2286) \n",
      "Epoch: [4][0/703] Data 1.392 (1.392) Elapsed 0m 2s (remain 26m 51s) Loss: 0.2354(0.2354) Grad: 1.1739  \n",
      "Epoch: [4][100/703] Data 0.000 (0.014) Elapsed 1m 26s (remain 8m 38s) Loss: 0.1261(0.1691) Grad: 1.2958  \n",
      "Epoch: [4][200/703] Data 0.000 (0.007) Elapsed 2m 51s (remain 7m 8s) Loss: 0.0810(0.1658) Grad: 0.3931  \n",
      "Epoch: [4][300/703] Data 0.000 (0.005) Elapsed 4m 15s (remain 5m 41s) Loss: 0.1937(0.1702) Grad: 1.2361  \n",
      "Epoch: [4][400/703] Data 0.000 (0.004) Elapsed 5m 40s (remain 4m 16s) Loss: 0.0911(0.1711) Grad: 1.2269  \n",
      "Epoch: [4][500/703] Data 0.000 (0.003) Elapsed 7m 4s (remain 2m 51s) Loss: 0.1049(0.1700) Grad: 0.8928  \n",
      "Epoch: [4][600/703] Data 0.000 (0.003) Elapsed 8m 29s (remain 1m 26s) Loss: 0.0930(0.1716) Grad: 0.6231  \n",
      "Epoch: [4][700/703] Data 0.000 (0.002) Elapsed 9m 54s (remain 0m 1s) Loss: 0.1400(0.1697) Grad: 1.3095  \n",
      "Epoch: [4][702/703] Data 0.000 (0.002) Elapsed 9m 56s (remain 0m 0s) Loss: 0.2038(0.1698) Grad: 2.0064  \n",
      "EVAL: [0/118] Data 3.786 (3.786) Elapsed 0m 4s (remain 7m 58s) Loss: 0.3394(0.3394) \n",
      "EVAL: [100/118] Data 0.828 (0.346) Elapsed 1m 3s (remain 0m 10s) Loss: 0.2020(0.2402) \n"
     ]
    },
    {
     "name": "stderr",
     "output_type": "stream",
     "text": [
      "Epoch 4 - avg_train_loss: 0.1698  avg_val_loss: 0.2415  time: 669s\n",
      "Epoch 4 - Score: 0.7821\n"
     ]
    },
    {
     "name": "stdout",
     "output_type": "stream",
     "text": [
      "EVAL: [117/118] Data 0.000 (0.335) Elapsed 1m 12s (remain 0m 0s) Loss: 0.2357(0.2415) \n",
      "Epoch: [5][0/703] Data 1.364 (1.364) Elapsed 0m 2s (remain 26m 19s) Loss: 0.2158(0.2158) Grad: 0.6482  \n",
      "Epoch: [5][100/703] Data 0.000 (0.014) Elapsed 1m 26s (remain 8m 37s) Loss: 0.0960(0.1384) Grad: 1.1045  \n",
      "Epoch: [5][200/703] Data 0.000 (0.007) Elapsed 2m 51s (remain 7m 9s) Loss: 0.1311(0.1375) Grad: 0.5870  \n",
      "Epoch: [5][300/703] Data 0.000 (0.005) Elapsed 4m 16s (remain 5m 43s) Loss: 0.1321(0.1387) Grad: 1.0562  \n",
      "Epoch: [5][400/703] Data 0.000 (0.004) Elapsed 5m 41s (remain 4m 17s) Loss: 0.0945(0.1398) Grad: 0.6679  \n",
      "Epoch: [5][500/703] Data 0.000 (0.003) Elapsed 7m 6s (remain 2m 52s) Loss: 0.1800(0.1381) Grad: 0.5915  \n",
      "Epoch: [5][600/703] Data 0.000 (0.002) Elapsed 8m 31s (remain 1m 26s) Loss: 0.1468(0.1401) Grad: 1.2510  \n",
      "Epoch: [5][700/703] Data 0.000 (0.002) Elapsed 9m 56s (remain 0m 1s) Loss: 0.2016(0.1392) Grad: 1.1983  \n",
      "Epoch: [5][702/703] Data 0.000 (0.002) Elapsed 9m 58s (remain 0m 0s) Loss: 0.0721(0.1391) Grad: 0.6261  \n",
      "EVAL: [0/118] Data 3.781 (3.781) Elapsed 0m 4s (remain 7m 56s) Loss: 0.3416(0.3416) \n",
      "EVAL: [100/118] Data 0.165 (0.367) Elapsed 1m 4s (remain 0m 10s) Loss: 0.1849(0.2491) \n"
     ]
    },
    {
     "name": "stderr",
     "output_type": "stream",
     "text": [
      "Epoch 5 - avg_train_loss: 0.1391  avg_val_loss: 0.2516  time: 673s\n",
      "Epoch 5 - Score: 0.7755\n"
     ]
    },
    {
     "name": "stdout",
     "output_type": "stream",
     "text": [
      "EVAL: [117/118] Data 0.000 (0.358) Elapsed 1m 14s (remain 0m 0s) Loss: 0.2662(0.2516) \n",
      "Epoch: [6][0/703] Data 1.472 (1.472) Elapsed 0m 2s (remain 28m 20s) Loss: 0.0962(0.0962) Grad: 0.4664  \n",
      "Epoch: [6][100/703] Data 0.000 (0.015) Elapsed 1m 27s (remain 8m 41s) Loss: 0.2058(0.1185) Grad: 1.5020  \n",
      "Epoch: [6][200/703] Data 0.000 (0.008) Elapsed 2m 52s (remain 7m 9s) Loss: 0.2472(0.1081) Grad: 2.2820  \n",
      "Epoch: [6][300/703] Data 0.000 (0.005) Elapsed 4m 17s (remain 5m 43s) Loss: 0.0291(0.1042) Grad: 0.6216  \n",
      "Epoch: [6][400/703] Data 0.000 (0.004) Elapsed 5m 42s (remain 4m 17s) Loss: 0.2217(0.1035) Grad: 1.3312  \n",
      "Epoch: [6][500/703] Data 0.000 (0.003) Elapsed 7m 7s (remain 2m 52s) Loss: 0.1543(0.1069) Grad: 1.3501  \n",
      "Epoch: [6][600/703] Data 0.000 (0.003) Elapsed 8m 32s (remain 1m 26s) Loss: 0.0700(0.1059) Grad: 0.8415  \n",
      "Epoch: [6][700/703] Data 0.000 (0.002) Elapsed 9m 57s (remain 0m 1s) Loss: 0.1399(0.1057) Grad: 1.5776  \n",
      "Epoch: [6][702/703] Data 0.000 (0.002) Elapsed 9m 58s (remain 0m 0s) Loss: 0.0915(0.1058) Grad: 2.1775  \n",
      "EVAL: [0/118] Data 4.163 (4.163) Elapsed 0m 4s (remain 8m 41s) Loss: 0.4124(0.4124) \n",
      "EVAL: [100/118] Data 0.499 (0.369) Elapsed 1m 4s (remain 0m 10s) Loss: 0.2141(0.2883) \n"
     ]
    },
    {
     "name": "stderr",
     "output_type": "stream",
     "text": [
      "Epoch 6 - avg_train_loss: 0.1058  avg_val_loss: 0.2921  time: 674s\n",
      "Epoch 6 - Score: 0.7707\n"
     ]
    },
    {
     "name": "stdout",
     "output_type": "stream",
     "text": [
      "EVAL: [117/118] Data 0.000 (0.362) Elapsed 1m 14s (remain 0m 0s) Loss: 0.2236(0.2921) \n"
     ]
    },
    {
     "name": "stderr",
     "output_type": "stream",
     "text": [
      "========== fold: 3 result ==========\n",
      "Score: 0.7916\n",
      "========== CV ==========\n",
      "Score: 0.7825\n"
     ]
    }
   ],
   "source": [
    "if __name__ == '__main__':\n",
    "    main()"
   ]
  },
  {
   "cell_type": "markdown",
   "id": "indonesian-mississippi",
   "metadata": {
    "papermill": {
     "duration": 0.129116,
     "end_time": "2021-07-16T02:16:42.824884",
     "exception": false,
     "start_time": "2021-07-16T02:16:42.695768",
     "status": "completed"
    },
    "tags": []
   },
   "source": [
    "# Inference"
   ]
  },
  {
   "cell_type": "code",
   "execution_count": 17,
   "id": "controlling-training",
   "metadata": {
    "execution": {
     "iopub.execute_input": "2021-07-16T02:16:43.108976Z",
     "iopub.status.busy": "2021-07-16T02:16:43.107328Z",
     "iopub.status.idle": "2021-07-16T02:16:43.109788Z",
     "shell.execute_reply": "2021-07-16T02:16:43.110265Z"
    },
    "papermill": {
     "duration": 0.149884,
     "end_time": "2021-07-16T02:16:43.110425",
     "exception": false,
     "start_time": "2021-07-16T02:16:42.960541",
     "status": "completed"
    },
    "tags": []
   },
   "outputs": [],
   "source": [
    "# ====================================================\n",
    "# Dataset\n",
    "# ====================================================\n",
    "class TestDataset(Dataset):\n",
    "    def __init__(self, df, transform=None):\n",
    "        self.df = df\n",
    "        self.file_names = df['file_path'].values\n",
    "        self.transform = transform\n",
    "        \n",
    "    def __len__(self):\n",
    "        return len(self.df)\n",
    "\n",
    "    def __getitem__(self, idx):\n",
    "        file_path = self.file_names[idx]\n",
    "        image = np.load(file_path)\n",
    "        image = image[::2].astype(np.float32)\n",
    "        image = np.vstack(image).transpose((1, 0))\n",
    "        if self.transform:\n",
    "            image = self.transform(image=image)['image']\n",
    "        else:\n",
    "            image = image[np.newaxis,:,:]\n",
    "            image = torch.from_numpy(image).float()\n",
    "        return image"
   ]
  },
  {
   "cell_type": "code",
   "execution_count": 18,
   "id": "designing-chess",
   "metadata": {
    "execution": {
     "iopub.execute_input": "2021-07-16T02:16:43.376428Z",
     "iopub.status.busy": "2021-07-16T02:16:43.375476Z",
     "iopub.status.idle": "2021-07-16T02:16:43.379090Z",
     "shell.execute_reply": "2021-07-16T02:16:43.378680Z"
    },
    "papermill": {
     "duration": 0.138213,
     "end_time": "2021-07-16T02:16:43.379200",
     "exception": false,
     "start_time": "2021-07-16T02:16:43.240987",
     "status": "completed"
    },
    "tags": []
   },
   "outputs": [],
   "source": [
    "# ====================================================\n",
    "# Helper functions\n",
    "# ====================================================\n",
    "def inference(model, states, test_loader, device):\n",
    "    model.to(device)\n",
    "    tk0 = tqdm(enumerate(test_loader), total=len(test_loader))\n",
    "    probs = []\n",
    "    for i, (images) in tk0:\n",
    "        images = images.to(device)\n",
    "        avg_preds = []\n",
    "        for state in states:\n",
    "            model.load_state_dict(state['model'])\n",
    "            model.eval()\n",
    "            with torch.no_grad():\n",
    "                y_preds = model(images)\n",
    "            avg_preds.append(y_preds.sigmoid().to('cpu').numpy())\n",
    "        avg_preds = np.mean(avg_preds, axis=0)\n",
    "        probs.append(avg_preds)\n",
    "    probs = np.concatenate(probs)\n",
    "    return probs"
   ]
  },
  {
   "cell_type": "code",
   "execution_count": 19,
   "id": "wrong-litigation",
   "metadata": {
    "execution": {
     "iopub.execute_input": "2021-07-16T02:16:43.644699Z",
     "iopub.status.busy": "2021-07-16T02:16:43.644048Z",
     "iopub.status.idle": "2021-07-16T02:23:53.659920Z",
     "shell.execute_reply": "2021-07-16T02:23:53.659439Z"
    },
    "papermill": {
     "duration": 430.154232,
     "end_time": "2021-07-16T02:23:53.660762",
     "exception": false,
     "start_time": "2021-07-16T02:16:43.506530",
     "status": "completed"
    },
    "tags": []
   },
   "outputs": [
    {
     "data": {
      "application/vnd.jupyter.widget-view+json": {
       "model_id": "45c2c7b3097643a199d964a99dafba48",
       "version_major": 2,
       "version_minor": 0
      },
      "text/plain": [
       "  0%|          | 0/625 [00:00<?, ?it/s]"
      ]
     },
     "metadata": {},
     "output_type": "display_data"
    }
   ],
   "source": [
    "# ====================================================\n",
    "# inference\n",
    "# ====================================================\n",
    "model = CustomModel(CFG, pretrained=False)\n",
    "MODEL_DIR = '/kaggle/working/'\n",
    "states = [torch.load(MODEL_DIR+f'{CFG.model_name}_fold{fold}_best_loss.pth') for fold in CFG.trn_fold]\n",
    "test_dataset = TestDataset(test, transform=get_transforms(data='valid'))\n",
    "test_loader = DataLoader(test_dataset, batch_size=CFG.batch_size, shuffle=False, \n",
    "                         num_workers=CFG.num_workers, pin_memory=True)\n",
    "predictions = inference(model, states, test_loader, device)"
   ]
  },
  {
   "cell_type": "code",
   "execution_count": 20,
   "id": "involved-volleyball",
   "metadata": {
    "execution": {
     "iopub.execute_input": "2021-07-16T02:23:53.932016Z",
     "iopub.status.busy": "2021-07-16T02:23:53.931323Z",
     "iopub.status.idle": "2021-07-16T02:23:54.135609Z",
     "shell.execute_reply": "2021-07-16T02:23:54.136065Z"
    },
    "papermill": {
     "duration": 0.346693,
     "end_time": "2021-07-16T02:23:54.136215",
     "exception": false,
     "start_time": "2021-07-16T02:23:53.789522",
     "status": "completed"
    },
    "tags": []
   },
   "outputs": [
    {
     "data": {
      "text/html": [
       "<div>\n",
       "<style scoped>\n",
       "    .dataframe tbody tr th:only-of-type {\n",
       "        vertical-align: middle;\n",
       "    }\n",
       "\n",
       "    .dataframe tbody tr th {\n",
       "        vertical-align: top;\n",
       "    }\n",
       "\n",
       "    .dataframe thead th {\n",
       "        text-align: right;\n",
       "    }\n",
       "</style>\n",
       "<table border=\"1\" class=\"dataframe\">\n",
       "  <thead>\n",
       "    <tr style=\"text-align: right;\">\n",
       "      <th></th>\n",
       "      <th>id</th>\n",
       "      <th>target</th>\n",
       "    </tr>\n",
       "  </thead>\n",
       "  <tbody>\n",
       "    <tr>\n",
       "      <th>0</th>\n",
       "      <td>000bf832cae9ff1</td>\n",
       "      <td>0.088725</td>\n",
       "    </tr>\n",
       "    <tr>\n",
       "      <th>1</th>\n",
       "      <td>000c74cc71a1140</td>\n",
       "      <td>0.068858</td>\n",
       "    </tr>\n",
       "    <tr>\n",
       "      <th>2</th>\n",
       "      <td>000f5f9851161d3</td>\n",
       "      <td>0.069743</td>\n",
       "    </tr>\n",
       "    <tr>\n",
       "      <th>3</th>\n",
       "      <td>000f7499e95aba6</td>\n",
       "      <td>0.096652</td>\n",
       "    </tr>\n",
       "    <tr>\n",
       "      <th>4</th>\n",
       "      <td>00133ce6ec257f9</td>\n",
       "      <td>0.059953</td>\n",
       "    </tr>\n",
       "  </tbody>\n",
       "</table>\n",
       "</div>"
      ],
      "text/plain": [
       "                id    target\n",
       "0  000bf832cae9ff1  0.088725\n",
       "1  000c74cc71a1140  0.068858\n",
       "2  000f5f9851161d3  0.069743\n",
       "3  000f7499e95aba6  0.096652\n",
       "4  00133ce6ec257f9  0.059953"
      ]
     },
     "execution_count": 20,
     "metadata": {},
     "output_type": "execute_result"
    }
   ],
   "source": [
    "# submission\n",
    "test['target'] = predictions\n",
    "test[['id', 'target']].to_csv('submission.csv', index=False)\n",
    "test[['id', 'target']].head()"
   ]
  },
  {
   "cell_type": "code",
   "execution_count": 21,
   "id": "elementary-delta",
   "metadata": {
    "execution": {
     "iopub.execute_input": "2021-07-16T02:23:54.416294Z",
     "iopub.status.busy": "2021-07-16T02:23:54.415778Z",
     "iopub.status.idle": "2021-07-16T02:23:54.618976Z",
     "shell.execute_reply": "2021-07-16T02:23:54.619400Z"
    },
    "papermill": {
     "duration": 0.355632,
     "end_time": "2021-07-16T02:23:54.619543",
     "exception": false,
     "start_time": "2021-07-16T02:23:54.263911",
     "status": "completed"
    },
    "tags": []
   },
   "outputs": [
    {
     "data": {
      "text/plain": [
       "<AxesSubplot:>"
      ]
     },
     "execution_count": 21,
     "metadata": {},
     "output_type": "execute_result"
    },
    {
     "data": {
      "image/png": "[encoded data removed]",
      "text/plain": [
       "<Figure size 432x288 with 1 Axes>"
      ]
     },
     "metadata": {
      "needs_background": "light"
     },
     "output_type": "display_data"
    }
   ],
   "source": [
    "test['target'].hist()"
   ]
  }
 ],
 "metadata": {
  "kernelspec": {
   "display_name": "Python 3",
   "language": "python",
   "name": "python3"
  },
  "language_info": {
   "codemirror_mode": {
    "name": "ipython",
    "version": 3
   },
   "file_extension": ".py",
   "mimetype": "text/x-python",
   "name": "python",
   "nbconvert_exporter": "python",
   "pygments_lexer": "ipython3",
   "version": "3.7.10"
  },
  "papermill": {
   "default_parameters": {},
   "duration": 16500.255811,
   "end_time": "2021-07-16T02:23:57.785904",
   "environment_variables": {},
   "exception": null,
   "input_path": "__notebook__.ipynb",
   "output_path": "__notebook__.ipynb",
   "parameters": {},
   "start_time": "2021-07-15T21:48:57.530093",
   "version": "2.3.3"
  },
  "widgets": {
   "application/vnd.jupyter.widget-state+json": {
    "state": {
     "04206642fceb40e78f9baa35ce8ced96": {
      "model_module": "@jupyter-widgets/base",
      "model_module_version": "1.2.0",
      "model_name": "LayoutModel",
      "state": {
       "_model_module": "@jupyter-widgets/base",
       "_model_module_version": "1.2.0",
       "_model_name": "LayoutModel",
       "_view_count": null,
       "_view_module": "@jupyter-widgets/base",
       "_view_module_version": "1.2.0",
       "_view_name": "LayoutView",
       "align_content": null,
       "align_items": null,
       "align_self": null,
       "border": null,
       "bottom": null,
       "display": null,
       "flex": null,
       "flex_flow": null,
       "grid_area": null,
       "grid_auto_columns": null,
       "grid_auto_flow": null,
       "grid_auto_rows": null,
       "grid_column": null,
       "grid_gap": null,
       "grid_row": null,
       "grid_template_areas": null,
       "grid_template_columns": null,
       "grid_template_rows": null,
       "height": null,
       "justify_content": null,
       "justify_items": null,
       "left": null,
       "margin": null,
       "max_height": null,
       "max_width": null,
       "min_height": null,
       "min_width": null,
       "object_fit": null,
       "object_position": null,
       "order": null,
       "overflow": null,
       "overflow_x": null,
       "overflow_y": null,
       "padding": null,
       "right": null,
       "top": null,
       "visibility": null,
       "width": null
      }
     },
     "45c2c7b3097643a199d964a99dafba48": {
      "model_module": "@jupyter-widgets/controls",
      "model_module_version": "1.5.0",
      "model_name": "HBoxModel",
      "state": {
       "_dom_classes": [],
       "_model_module": "@jupyter-widgets/controls",
       "_model_module_version": "1.5.0",
       "_model_name": "HBoxModel",
       "_view_count": null,
       "_view_module": "@jupyter-widgets/controls",
       "_view_module_version": "1.5.0",
       "_view_name": "HBoxView",
       "box_style": "",
       "children": [
        "IPY_MODEL_f7a875ce9f5d48b7b3344769cfbe1b03",
        "IPY_MODEL_eaf00057af8d4350947dc1068607c4da",
        "IPY_MODEL_785103a922314df8a9897a8f50b45eba"
       ],
       "layout": "IPY_MODEL_46a444b6f42341279364bb1f94297da8"
      }
     },
     "46a444b6f42341279364bb1f94297da8": {
      "model_module": "@jupyter-widgets/base",
      "model_module_version": "1.2.0",
      "model_name": "LayoutModel",
      "state": {
       "_model_module": "@jupyter-widgets/base",
       "_model_module_version": "1.2.0",
       "_model_name": "LayoutModel",
       "_view_count": null,
       "_view_module": "@jupyter-widgets/base",
       "_view_module_version": "1.2.0",
       "_view_name": "LayoutView",
       "align_content": null,
       "align_items": null,
       "align_self": null,
       "border": null,
       "bottom": null,
       "display": null,
       "flex": null,
       "flex_flow": null,
       "grid_area": null,
       "grid_auto_columns": null,
       "grid_auto_flow": null,
       "grid_auto_rows": null,
       "grid_column": null,
       "grid_gap": null,
       "grid_row": null,
       "grid_template_areas": null,
       "grid_template_columns": null,
       "grid_template_rows": null,
       "height": null,
       "justify_content": null,
       "justify_items": null,
       "left": null,
       "margin": null,
       "max_height": null,
       "max_width": null,
       "min_height": null,
       "min_width": null,
       "object_fit": null,
       "object_position": null,
       "order": null,
       "overflow": null,
       "overflow_x": null,
       "overflow_y": null,
       "padding": null,
       "right": null,
       "top": null,
       "visibility": null,
       "width": null
      }
     },
     "785103a922314df8a9897a8f50b45eba": {
      "model_module": "@jupyter-widgets/controls",
      "model_module_version": "1.5.0",
      "model_name": "HTMLModel",
      "state": {
       "_dom_classes": [],
       "_model_module": "@jupyter-widgets/controls",
       "_model_module_version": "1.5.0",
       "_model_name": "HTMLModel",
       "_view_count": null,
       "_view_module": "@jupyter-widgets/controls",
       "_view_module_version": "1.5.0",
       "_view_name": "HTMLView",
       "description": "",
       "description_tooltip": null,
       "layout": "IPY_MODEL_7adc13768b93414fa60f01652ba35882",
       "placeholder": "​",
       "style": "IPY_MODEL_b63c1d89c8ff4c9d9f8e3c8457216101",
       "value": " 625/625 [07:07&lt;00:00,  1.60it/s]"
      }
     },
     "7adc13768b93414fa60f01652ba35882": {
      "model_module": "@jupyter-widgets/base",
      "model_module_version": "1.2.0",
      "model_name": "LayoutModel",
      "state": {
       "_model_module": "@jupyter-widgets/base",
       "_model_module_version": "1.2.0",
       "_model_name": "LayoutModel",
       "_view_count": null,
       "_view_module": "@jupyter-widgets/base",
       "_view_module_version": "1.2.0",
       "_view_name": "LayoutView",
       "align_content": null,
       "align_items": null,
       "align_self": null,
       "border": null,
       "bottom": null,
       "display": null,
       "flex": null,
       "flex_flow": null,
       "grid_area": null,
       "grid_auto_columns": null,
       "grid_auto_flow": null,
       "grid_auto_rows": null,
       "grid_column": null,
       "grid_gap": null,
       "grid_row": null,
       "grid_template_areas": null,
       "grid_template_columns": null,
       "grid_template_rows": null,
       "height": null,
       "justify_content": null,
       "justify_items": null,
       "left": null,
       "margin": null,
       "max_height": null,
       "max_width": null,
       "min_height": null,
       "min_width": null,
       "object_fit": null,
       "object_position": null,
       "order": null,
       "overflow": null,
       "overflow_x": null,
       "overflow_y": null,
       "padding": null,
       "right": null,
       "top": null,
       "visibility": null,
       "width": null
      }
     },
     "98febd0db7aa4aa98af24296ce97bc64": {
      "model_module": "@jupyter-widgets/controls",
      "model_module_version": "1.5.0",
      "model_name": "ProgressStyleModel",
      "state": {
       "_model_module": "@jupyter-widgets/controls",
       "_model_module_version": "1.5.0",
       "_model_name": "ProgressStyleModel",
       "_view_count": null,
       "_view_module": "@jupyter-widgets/base",
       "_view_module_version": "1.2.0",
       "_view_name": "StyleView",
       "bar_color": null,
       "description_width": ""
      }
     },
     "b63c1d89c8ff4c9d9f8e3c8457216101": {
      "model_module": "@jupyter-widgets/controls",
      "model_module_version": "1.5.0",
      "model_name": "DescriptionStyleModel",
      "state": {
       "_model_module": "@jupyter-widgets/controls",
       "_model_module_version": "1.5.0",
       "_model_name": "DescriptionStyleModel",
       "_view_count": null,
       "_view_module": "@jupyter-widgets/base",
       "_view_module_version": "1.2.0",
       "_view_name": "StyleView",
       "description_width": ""
      }
     },
     "dc6e9f080b9545dab9f6b9e8b77a43d4": {
      "model_module": "@jupyter-widgets/base",
      "model_module_version": "1.2.0",
      "model_name": "LayoutModel",
      "state": {
       "_model_module": "@jupyter-widgets/base",
       "_model_module_version": "1.2.0",
       "_model_name": "LayoutModel",
       "_view_count": null,
       "_view_module": "@jupyter-widgets/base",
       "_view_module_version": "1.2.0",
       "_view_name": "LayoutView",
       "align_content": null,
       "align_items": null,
       "align_self": null,
       "border": null,
       "bottom": null,
       "display": null,
       "flex": null,
       "flex_flow": null,
       "grid_area": null,
       "grid_auto_columns": null,
       "grid_auto_flow": null,
       "grid_auto_rows": null,
       "grid_column": null,
       "grid_gap": null,
       "grid_row": null,
       "grid_template_areas": null,
       "grid_template_columns": null,
       "grid_template_rows": null,
       "height": null,
       "justify_content": null,
       "justify_items": null,
       "left": null,
       "margin": null,
       "max_height": null,
       "max_width": null,
       "min_height": null,
       "min_width": null,
       "object_fit": null,
       "object_position": null,
       "order": null,
       "overflow": null,
       "overflow_x": null,
       "overflow_y": null,
       "padding": null,
       "right": null,
       "top": null,
       "visibility": null,
       "width": null
      }
     },
     "eaf00057af8d4350947dc1068607c4da": {
      "model_module": "@jupyter-widgets/controls",
      "model_module_version": "1.5.0",
      "model_name": "FloatProgressModel",
      "state": {
       "_dom_classes": [],
       "_model_module": "@jupyter-widgets/controls",
       "_model_module_version": "1.5.0",
       "_model_name": "FloatProgressModel",
       "_view_count": null,
       "_view_module": "@jupyter-widgets/controls",
       "_view_module_version": "1.5.0",
       "_view_name": "ProgressView",
       "bar_style": "success",
       "description": "",
       "description_tooltip": null,
       "layout": "IPY_MODEL_04206642fceb40e78f9baa35ce8ced96",
       "max": 625.0,
       "min": 0.0,
       "orientation": "horizontal",
       "style": "IPY_MODEL_98febd0db7aa4aa98af24296ce97bc64",
       "value": 625.0
      }
     },
     "f7a875ce9f5d48b7b3344769cfbe1b03": {
      "model_module": "@jupyter-widgets/controls",
      "model_module_version": "1.5.0",
      "model_name": "HTMLModel",
      "state": {
       "_dom_classes": [],
       "_model_module": "@jupyter-widgets/controls",
       "_model_module_version": "1.5.0",
       "_model_name": "HTMLModel",
       "_view_count": null,
       "_view_module": "@jupyter-widgets/controls",
       "_view_module_version": "1.5.0",
       "_view_name": "HTMLView",
       "description": "",
       "description_tooltip": null,
       "layout": "IPY_MODEL_dc6e9f080b9545dab9f6b9e8b77a43d4",
       "placeholder": "​",
       "style": "IPY_MODEL_f9c8fbdc859d408fb1f8c9840cac804f",
       "value": "100%"
      }
     },
     "f9c8fbdc859d408fb1f8c9840cac804f": {
      "model_module": "@jupyter-widgets/controls",
      "model_module_version": "1.5.0",
      "model_name": "DescriptionStyleModel",
      "state": {
       "_model_module": "@jupyter-widgets/controls",
       "_model_module_version": "1.5.0",
       "_model_name": "DescriptionStyleModel",
       "_view_count": null,
       "_view_module": "@jupyter-widgets/base",
       "_view_module_version": "1.2.0",
       "_view_name": "StyleView",
       "description_width": ""
      }
     }
    },
    "version_major": 2,
    "version_minor": 0
   }
  }
 },
 "nbformat": 4,
 "nbformat_minor": 5
}
